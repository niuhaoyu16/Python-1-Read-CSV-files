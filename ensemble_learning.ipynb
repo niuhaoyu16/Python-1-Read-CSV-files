{
  "nbformat": 4,
  "nbformat_minor": 0,
  "metadata": {
    "colab": {
      "name": "ensemble learning.ipynb",
      "provenance": [],
      "authorship_tag": "ABX9TyOH5fA5gQpAGk3aZ0Hp3G/j",
      "include_colab_link": true
    },
    "kernelspec": {
      "name": "python3",
      "display_name": "Python 3"
    }
  },
  "cells": [
    {
      "cell_type": "markdown",
      "metadata": {
        "id": "view-in-github",
        "colab_type": "text"
      },
      "source": [
        "<a href=\"https://colab.research.google.com/github/niuhaoyu16/PythonforBeginners/blob/master/ensemble_learning.ipynb\" target=\"_parent\"><img src=\"https://colab.research.google.com/assets/colab-badge.svg\" alt=\"Open In Colab\"/></a>"
      ]
    },
    {
      "cell_type": "code",
      "metadata": {
        "id": "pabevjp6nkK3"
      },
      "source": [
        "from sklearn.ensemble import RandomForestClassifier"
      ],
      "execution_count": null,
      "outputs": []
    },
    {
      "cell_type": "code",
      "metadata": {
        "id": "jxWitSy3nv_H"
      },
      "source": [
        "from sklearn.ensemble import VotingClassifier\n",
        "from sklearn.linear_model import LogisticRegression\n",
        "from sklearn.svm import SVC"
      ],
      "execution_count": null,
      "outputs": []
    },
    {
      "cell_type": "code",
      "metadata": {
        "id": "vQhoh7ieouiJ"
      },
      "source": [
        "from sklearn.model_selection import train_test_split\n",
        "from sklearn.datasets import make_moons\n",
        "\n",
        "X, y = make_moons(n_samples=500, noise=0.30, random_state=42)\n",
        "X_train, X_test, y_train, y_test = train_test_split(X, y, random_state=42)"
      ],
      "execution_count": null,
      "outputs": []
    },
    {
      "cell_type": "code",
      "metadata": {
        "id": "yYYR6U02oBrt"
      },
      "source": [
        "log_clf = LogisticRegression()\n",
        "rnd_clf = RandomForestClassifier()\n",
        "svm_clf = SVC()"
      ],
      "execution_count": null,
      "outputs": []
    },
    {
      "cell_type": "code",
      "metadata": {
        "colab": {
          "base_uri": "https://localhost:8080/"
        },
        "id": "kDGCWblboL-w",
        "outputId": "a5e880e2-f3a9-4f1e-86a6-049c6b187c05"
      },
      "source": [
        "voting_clf = VotingClassifier(\n",
        "    estimators = [('lr', log_clf), ('rf', rnd_clf), ('svc', svm_clf)],\n",
        "    voting='hard'\n",
        ")\n",
        "\n",
        "voting_clf.fit(X_train, y_train)"
      ],
      "execution_count": null,
      "outputs": [
        {
          "output_type": "execute_result",
          "data": {
            "text/plain": [
              "VotingClassifier(estimators=[('lr',\n",
              "                              LogisticRegression(C=1.0, class_weight=None,\n",
              "                                                 dual=False, fit_intercept=True,\n",
              "                                                 intercept_scaling=1,\n",
              "                                                 l1_ratio=None, max_iter=100,\n",
              "                                                 multi_class='auto',\n",
              "                                                 n_jobs=None, penalty='l2',\n",
              "                                                 random_state=None,\n",
              "                                                 solver='lbfgs', tol=0.0001,\n",
              "                                                 verbose=0, warm_start=False)),\n",
              "                             ('rf',\n",
              "                              RandomForestClassifier(bootstrap=True,\n",
              "                                                     ccp_alpha=0.0,\n",
              "                                                     class_weight=None,\n",
              "                                                     cr...\n",
              "                                                     oob_score=False,\n",
              "                                                     random_state=None,\n",
              "                                                     verbose=0,\n",
              "                                                     warm_start=False)),\n",
              "                             ('svc',\n",
              "                              SVC(C=1.0, break_ties=False, cache_size=200,\n",
              "                                  class_weight=None, coef0=0.0,\n",
              "                                  decision_function_shape='ovr', degree=3,\n",
              "                                  gamma='scale', kernel='rbf', max_iter=-1,\n",
              "                                  probability=False, random_state=None,\n",
              "                                  shrinking=True, tol=0.001, verbose=False))],\n",
              "                 flatten_transform=True, n_jobs=None, voting='hard',\n",
              "                 weights=None)"
            ]
          },
          "metadata": {
            "tags": []
          },
          "execution_count": 5
        }
      ]
    },
    {
      "cell_type": "code",
      "metadata": {
        "id": "5oP3O_o6oy5f"
      },
      "source": [
        "from sklearn.metrics import accuracy_score"
      ],
      "execution_count": null,
      "outputs": []
    },
    {
      "cell_type": "code",
      "metadata": {
        "colab": {
          "base_uri": "https://localhost:8080/"
        },
        "id": "MRw7sKPoo6Hd",
        "outputId": "52c16f1f-5883-4121-b9b1-b83af5aca2f4"
      },
      "source": [
        "for clf in (log_clf, rnd_clf, svm_clf, voting_clf):\n",
        "  clf.fit(X_train, y_train)\n",
        "  y_pred = clf.predict(X_test)\n",
        "  print(clf.__class__.__name__, accuracy_score(y_test, y_pred))"
      ],
      "execution_count": null,
      "outputs": [
        {
          "output_type": "stream",
          "text": [
            "LogisticRegression 0.864\n",
            "RandomForestClassifier 0.904\n",
            "SVC 0.896\n",
            "VotingClassifier 0.896\n"
          ],
          "name": "stdout"
        }
      ]
    },
    {
      "cell_type": "code",
      "metadata": {
        "id": "jFZImV4-pUAv"
      },
      "source": [
        "from sklearn.ensemble import BaggingClassifier\n",
        "from sklearn.tree import DecisionTreeClassifier\n",
        "\n",
        "bag_clf = BaggingClassifier(\n",
        "    DecisionTreeClassifier(), n_estimators=500,\n",
        "    max_samples = 100, bootstrap = True, n_jobs=-1\n",
        ")\n",
        "bag_clf.fit(X_train, y_train)\n",
        "y_pred = bag_clf.predict(X_test)"
      ],
      "execution_count": null,
      "outputs": []
    },
    {
      "cell_type": "code",
      "metadata": {
        "id": "UQnokMSBqOr2"
      },
      "source": [
        "bag_clf = BaggingClassifier(\n",
        "    DecisionTreeClassifier(), n_estimators =500,\n",
        "    bootstrap = True, n_jobs=-1, oob_score=True\n",
        ")"
      ],
      "execution_count": null,
      "outputs": []
    },
    {
      "cell_type": "code",
      "metadata": {
        "colab": {
          "base_uri": "https://localhost:8080/"
        },
        "id": "c8ABjuokqsmf",
        "outputId": "aa8a573e-c63a-4190-d6b1-938f05585772"
      },
      "source": [
        "bag_clf.fit(X_train, y_train)"
      ],
      "execution_count": null,
      "outputs": [
        {
          "output_type": "execute_result",
          "data": {
            "text/plain": [
              "BaggingClassifier(base_estimator=DecisionTreeClassifier(ccp_alpha=0.0,\n",
              "                                                        class_weight=None,\n",
              "                                                        criterion='gini',\n",
              "                                                        max_depth=None,\n",
              "                                                        max_features=None,\n",
              "                                                        max_leaf_nodes=None,\n",
              "                                                        min_impurity_decrease=0.0,\n",
              "                                                        min_impurity_split=None,\n",
              "                                                        min_samples_leaf=1,\n",
              "                                                        min_samples_split=2,\n",
              "                                                        min_weight_fraction_leaf=0.0,\n",
              "                                                        presort='deprecated',\n",
              "                                                        random_state=None,\n",
              "                                                        splitter='best'),\n",
              "                  bootstrap=True, bootstrap_features=False, max_features=1.0,\n",
              "                  max_samples=1.0, n_estimators=500, n_jobs=-1, oob_score=True,\n",
              "                  random_state=None, verbose=0, warm_start=False)"
            ]
          },
          "metadata": {
            "tags": []
          },
          "execution_count": 10
        }
      ]
    },
    {
      "cell_type": "code",
      "metadata": {
        "colab": {
          "base_uri": "https://localhost:8080/"
        },
        "id": "FUF_Zft2qw-3",
        "outputId": "c5ad7838-f111-4f8e-cbb2-85eadae994d9"
      },
      "source": [
        "bag_clf.oob_score_"
      ],
      "execution_count": null,
      "outputs": [
        {
          "output_type": "execute_result",
          "data": {
            "text/plain": [
              "0.8986666666666666"
            ]
          },
          "metadata": {
            "tags": []
          },
          "execution_count": 11
        }
      ]
    },
    {
      "cell_type": "code",
      "metadata": {
        "colab": {
          "base_uri": "https://localhost:8080/"
        },
        "id": "cZ2Og9N3q1YW",
        "outputId": "c1ed7a08-f82d-4815-e2fc-a0ebc50fa148"
      },
      "source": [
        "y_pred = bag_clf.predict(X_test)\n",
        "accuracy_score(y_pred, y_test)"
      ],
      "execution_count": null,
      "outputs": [
        {
          "output_type": "execute_result",
          "data": {
            "text/plain": [
              "0.896"
            ]
          },
          "metadata": {
            "tags": []
          },
          "execution_count": 12
        }
      ]
    },
    {
      "cell_type": "code",
      "metadata": {
        "colab": {
          "base_uri": "https://localhost:8080/"
        },
        "id": "E92QQg8Vq-pk",
        "outputId": "94fdac5b-f432-4ca6-b307-4a677156533a"
      },
      "source": [
        "bag_clf.oob_decision_function_"
      ],
      "execution_count": null,
      "outputs": [
        {
          "output_type": "execute_result",
          "data": {
            "text/plain": [
              "array([[0.40449438, 0.59550562],\n",
              "       [0.33663366, 0.66336634],\n",
              "       [1.        , 0.        ],\n",
              "       [0.        , 1.        ],\n",
              "       [0.        , 1.        ],\n",
              "       [0.11242604, 0.88757396],\n",
              "       [0.38461538, 0.61538462],\n",
              "       [0.02139037, 0.97860963],\n",
              "       [0.98429319, 0.01570681],\n",
              "       [0.97826087, 0.02173913],\n",
              "       [0.73913043, 0.26086957],\n",
              "       [0.00537634, 0.99462366],\n",
              "       [0.8045977 , 0.1954023 ],\n",
              "       [0.85784314, 0.14215686],\n",
              "       [0.98360656, 0.01639344],\n",
              "       [0.04102564, 0.95897436],\n",
              "       [0.        , 1.        ],\n",
              "       [0.99497487, 0.00502513],\n",
              "       [0.94086022, 0.05913978],\n",
              "       [0.97894737, 0.02105263],\n",
              "       [0.01714286, 0.98285714],\n",
              "       [0.37096774, 0.62903226],\n",
              "       [0.89162562, 0.10837438],\n",
              "       [1.        , 0.        ],\n",
              "       [0.94972067, 0.05027933],\n",
              "       [0.        , 1.        ],\n",
              "       [0.99497487, 0.00502513],\n",
              "       [1.        , 0.        ],\n",
              "       [0.        , 1.        ],\n",
              "       [0.63959391, 0.36040609],\n",
              "       [0.        , 1.        ],\n",
              "       [1.        , 0.        ],\n",
              "       [0.        , 1.        ],\n",
              "       [0.        , 1.        ],\n",
              "       [0.15730337, 0.84269663],\n",
              "       [1.        , 0.        ],\n",
              "       [0.        , 1.        ],\n",
              "       [0.43678161, 0.56321839],\n",
              "       [0.        , 1.        ],\n",
              "       [1.        , 0.        ],\n",
              "       [0.18518519, 0.81481481],\n",
              "       [0.35748792, 0.64251208],\n",
              "       [1.        , 0.        ],\n",
              "       [1.        , 0.        ],\n",
              "       [0.        , 1.        ],\n",
              "       [1.        , 0.        ],\n",
              "       [1.        , 0.        ],\n",
              "       [0.02173913, 0.97826087],\n",
              "       [1.        , 0.        ],\n",
              "       [0.00995025, 0.99004975],\n",
              "       [0.98857143, 0.01142857],\n",
              "       [0.87567568, 0.12432432],\n",
              "       [0.95555556, 0.04444444],\n",
              "       [0.97076023, 0.02923977],\n",
              "       [0.        , 1.        ],\n",
              "       [0.02352941, 0.97647059],\n",
              "       [0.97647059, 0.02352941],\n",
              "       [0.00584795, 0.99415205],\n",
              "       [0.        , 1.        ],\n",
              "       [0.00555556, 0.99444444],\n",
              "       [0.97714286, 0.02285714],\n",
              "       [0.81318681, 0.18681319],\n",
              "       [0.41142857, 0.58857143],\n",
              "       [0.99502488, 0.00497512],\n",
              "       [0.        , 1.        ],\n",
              "       [0.73399015, 0.26600985],\n",
              "       [1.        , 0.        ],\n",
              "       [1.        , 0.        ],\n",
              "       [0.83589744, 0.16410256],\n",
              "       [1.        , 0.        ],\n",
              "       [0.5978836 , 0.4021164 ],\n",
              "       [0.16393443, 0.83606557],\n",
              "       [0.65088757, 0.34911243],\n",
              "       [0.88571429, 0.11428571],\n",
              "       [0.        , 1.        ],\n",
              "       [0.18181818, 0.81818182],\n",
              "       [0.88764045, 0.11235955],\n",
              "       [1.        , 0.        ],\n",
              "       [0.        , 1.        ],\n",
              "       [1.        , 0.        ],\n",
              "       [0.        , 1.        ],\n",
              "       [0.04166667, 0.95833333],\n",
              "       [0.03825137, 0.96174863],\n",
              "       [0.30057803, 0.69942197],\n",
              "       [1.        , 0.        ],\n",
              "       [0.        , 1.        ],\n",
              "       [0.87684729, 0.12315271],\n",
              "       [0.01612903, 0.98387097],\n",
              "       [0.        , 1.        ],\n",
              "       [0.        , 1.        ],\n",
              "       [0.23076923, 0.76923077],\n",
              "       [1.        , 0.        ],\n",
              "       [0.        , 1.        ],\n",
              "       [0.        , 1.        ],\n",
              "       [0.        , 1.        ],\n",
              "       [0.96666667, 0.03333333],\n",
              "       [0.69387755, 0.30612245],\n",
              "       [0.00925926, 0.99074074],\n",
              "       [1.        , 0.        ],\n",
              "       [0.25748503, 0.74251497],\n",
              "       [0.6744186 , 0.3255814 ],\n",
              "       [0.        , 1.        ],\n",
              "       [0.03684211, 0.96315789],\n",
              "       [0.48214286, 0.51785714],\n",
              "       [1.        , 0.        ],\n",
              "       [0.01704545, 0.98295455],\n",
              "       [0.98816568, 0.01183432],\n",
              "       [0.22105263, 0.77894737],\n",
              "       [0.52173913, 0.47826087],\n",
              "       [1.        , 0.        ],\n",
              "       [0.02209945, 0.97790055],\n",
              "       [0.97790055, 0.02209945],\n",
              "       [0.25443787, 0.74556213],\n",
              "       [0.95530726, 0.04469274],\n",
              "       [1.        , 0.        ],\n",
              "       [1.        , 0.        ],\n",
              "       [0.        , 1.        ],\n",
              "       [0.        , 1.        ],\n",
              "       [0.7032967 , 0.2967033 ],\n",
              "       [1.        , 0.        ],\n",
              "       [0.        , 1.        ],\n",
              "       [1.        , 0.        ],\n",
              "       [1.        , 0.        ],\n",
              "       [1.        , 0.        ],\n",
              "       [0.99447514, 0.00552486],\n",
              "       [1.        , 0.        ],\n",
              "       [0.00546448, 0.99453552],\n",
              "       [0.95360825, 0.04639175],\n",
              "       [0.99468085, 0.00531915],\n",
              "       [0.02173913, 0.97826087],\n",
              "       [0.26785714, 0.73214286],\n",
              "       [0.9787234 , 0.0212766 ],\n",
              "       [0.32222222, 0.67777778],\n",
              "       [0.98924731, 0.01075269],\n",
              "       [0.        , 1.        ],\n",
              "       [0.        , 1.        ],\n",
              "       [0.77248677, 0.22751323],\n",
              "       [0.27659574, 0.72340426],\n",
              "       [0.41847826, 0.58152174],\n",
              "       [0.8988764 , 0.1011236 ],\n",
              "       [0.95027624, 0.04972376],\n",
              "       [0.05113636, 0.94886364],\n",
              "       [0.81339713, 0.18660287],\n",
              "       [0.01162791, 0.98837209],\n",
              "       [0.        , 1.        ],\n",
              "       [0.01456311, 0.98543689],\n",
              "       [0.96045198, 0.03954802],\n",
              "       [1.        , 0.        ],\n",
              "       [1.        , 0.        ],\n",
              "       [0.        , 1.        ],\n",
              "       [0.        , 1.        ],\n",
              "       [0.01648352, 0.98351648],\n",
              "       [0.00571429, 0.99428571],\n",
              "       [1.        , 0.        ],\n",
              "       [1.        , 0.        ],\n",
              "       [0.98492462, 0.01507538],\n",
              "       [1.        , 0.        ],\n",
              "       [1.        , 0.        ],\n",
              "       [0.99435028, 0.00564972],\n",
              "       [0.        , 1.        ],\n",
              "       [0.37912088, 0.62087912],\n",
              "       [0.26589595, 0.73410405],\n",
              "       [0.01734104, 0.98265896],\n",
              "       [0.        , 1.        ],\n",
              "       [0.30366492, 0.69633508],\n",
              "       [1.        , 0.        ],\n",
              "       [1.        , 0.        ],\n",
              "       [0.        , 1.        ],\n",
              "       [1.        , 0.        ],\n",
              "       [0.00584795, 0.99415205],\n",
              "       [0.        , 1.        ],\n",
              "       [0.96      , 0.04      ],\n",
              "       [0.        , 1.        ],\n",
              "       [0.        , 1.        ],\n",
              "       [1.        , 0.        ],\n",
              "       [0.        , 1.        ],\n",
              "       [0.65363128, 0.34636872],\n",
              "       [0.90555556, 0.09444444],\n",
              "       [0.        , 1.        ],\n",
              "       [0.9893617 , 0.0106383 ],\n",
              "       [0.99459459, 0.00540541],\n",
              "       [1.        , 0.        ],\n",
              "       [0.        , 1.        ],\n",
              "       [0.        , 1.        ],\n",
              "       [1.        , 0.        ],\n",
              "       [0.10285714, 0.89714286],\n",
              "       [1.        , 0.        ],\n",
              "       [0.02285714, 0.97714286],\n",
              "       [0.        , 1.        ],\n",
              "       [1.        , 0.        ],\n",
              "       [0.        , 1.        ],\n",
              "       [0.02590674, 0.97409326],\n",
              "       [1.        , 0.        ],\n",
              "       [0.91326531, 0.08673469],\n",
              "       [0.76100629, 0.23899371],\n",
              "       [0.60962567, 0.39037433],\n",
              "       [0.        , 1.        ],\n",
              "       [0.10982659, 0.89017341],\n",
              "       [1.        , 0.        ],\n",
              "       [0.94350282, 0.05649718],\n",
              "       [0.99481865, 0.00518135],\n",
              "       [1.        , 0.        ],\n",
              "       [0.        , 1.        ],\n",
              "       [0.        , 1.        ],\n",
              "       [0.48369565, 0.51630435],\n",
              "       [0.81122449, 0.18877551],\n",
              "       [0.        , 1.        ],\n",
              "       [0.        , 1.        ],\n",
              "       [1.        , 0.        ],\n",
              "       [0.        , 1.        ],\n",
              "       [0.        , 1.        ],\n",
              "       [0.96825397, 0.03174603],\n",
              "       [0.        , 1.        ],\n",
              "       [0.25945946, 0.74054054],\n",
              "       [0.        , 1.        ],\n",
              "       [1.        , 0.        ],\n",
              "       [0.        , 1.        ],\n",
              "       [0.        , 1.        ],\n",
              "       [0.98888889, 0.01111111],\n",
              "       [0.8042328 , 0.1957672 ],\n",
              "       [1.        , 0.        ],\n",
              "       [0.        , 1.        ],\n",
              "       [0.08955224, 0.91044776],\n",
              "       [1.        , 0.        ],\n",
              "       [0.0257732 , 0.9742268 ],\n",
              "       [0.        , 1.        ],\n",
              "       [0.07936508, 0.92063492],\n",
              "       [1.        , 0.        ],\n",
              "       [0.77202073, 0.22797927],\n",
              "       [0.        , 1.        ],\n",
              "       [0.84302326, 0.15697674],\n",
              "       [0.9893617 , 0.0106383 ],\n",
              "       [0.15168539, 0.84831461],\n",
              "       [0.16939891, 0.83060109],\n",
              "       [1.        , 0.        ],\n",
              "       [0.        , 1.        ],\n",
              "       [0.        , 1.        ],\n",
              "       [0.        , 1.        ],\n",
              "       [0.22772277, 0.77227723],\n",
              "       [0.97590361, 0.02409639],\n",
              "       [0.00534759, 0.99465241],\n",
              "       [1.        , 0.        ],\n",
              "       [0.98387097, 0.01612903],\n",
              "       [0.        , 1.        ],\n",
              "       [0.52840909, 0.47159091],\n",
              "       [1.        , 0.        ],\n",
              "       [0.        , 1.        ],\n",
              "       [1.        , 0.        ],\n",
              "       [0.        , 1.        ],\n",
              "       [0.        , 1.        ],\n",
              "       [0.06666667, 0.93333333],\n",
              "       [0.10106383, 0.89893617],\n",
              "       [0.99447514, 0.00552486],\n",
              "       [0.01612903, 0.98387097],\n",
              "       [1.        , 0.        ],\n",
              "       [0.39690722, 0.60309278],\n",
              "       [0.07734807, 0.92265193],\n",
              "       [0.57458564, 0.42541436],\n",
              "       [0.63372093, 0.36627907],\n",
              "       [0.        , 1.        ],\n",
              "       [1.        , 0.        ],\n",
              "       [0.        , 1.        ],\n",
              "       [0.        , 1.        ],\n",
              "       [0.61616162, 0.38383838],\n",
              "       [0.        , 1.        ],\n",
              "       [1.        , 0.        ],\n",
              "       [0.20809249, 0.79190751],\n",
              "       [0.81521739, 0.18478261],\n",
              "       [0.0441989 , 0.9558011 ],\n",
              "       [1.        , 0.        ],\n",
              "       [0.80927835, 0.19072165],\n",
              "       [0.        , 1.        ],\n",
              "       [0.01015228, 0.98984772],\n",
              "       [0.125     , 0.875     ],\n",
              "       [0.02688172, 0.97311828],\n",
              "       [0.        , 1.        ],\n",
              "       [1.        , 0.        ],\n",
              "       [0.92178771, 0.07821229],\n",
              "       [0.13157895, 0.86842105],\n",
              "       [0.96774194, 0.03225806],\n",
              "       [0.        , 1.        ],\n",
              "       [0.63095238, 0.36904762],\n",
              "       [0.11111111, 0.88888889],\n",
              "       [0.99456522, 0.00543478],\n",
              "       [0.85279188, 0.14720812],\n",
              "       [0.        , 1.        ],\n",
              "       [0.99453552, 0.00546448],\n",
              "       [0.95767196, 0.04232804],\n",
              "       [0.        , 1.        ],\n",
              "       [0.        , 1.        ],\n",
              "       [1.        , 0.        ],\n",
              "       [0.        , 1.        ],\n",
              "       [1.        , 0.        ],\n",
              "       [0.26940639, 0.73059361],\n",
              "       [0.99019608, 0.00980392],\n",
              "       [1.        , 0.        ],\n",
              "       [0.        , 1.        ],\n",
              "       [0.00543478, 0.99456522],\n",
              "       [0.9015544 , 0.0984456 ],\n",
              "       [0.        , 1.        ],\n",
              "       [1.        , 0.        ],\n",
              "       [0.74210526, 0.25789474],\n",
              "       [0.92777778, 0.07222222],\n",
              "       [1.        , 0.        ],\n",
              "       [0.68639053, 0.31360947],\n",
              "       [0.5       , 0.5       ],\n",
              "       [0.        , 1.        ],\n",
              "       [0.92045455, 0.07954545],\n",
              "       [0.        , 1.        ],\n",
              "       [1.        , 0.        ],\n",
              "       [0.9137931 , 0.0862069 ],\n",
              "       [1.        , 0.        ],\n",
              "       [1.        , 0.        ],\n",
              "       [0.76470588, 0.23529412],\n",
              "       [0.0802139 , 0.9197861 ],\n",
              "       [0.44864865, 0.55135135],\n",
              "       [0.20571429, 0.79428571],\n",
              "       [0.        , 1.        ],\n",
              "       [0.88888889, 0.11111111],\n",
              "       [0.76536313, 0.23463687],\n",
              "       [0.01111111, 0.98888889],\n",
              "       [1.        , 0.        ],\n",
              "       [1.        , 0.        ],\n",
              "       [1.        , 0.        ],\n",
              "       [0.        , 1.        ],\n",
              "       [0.01546392, 0.98453608],\n",
              "       [0.94186047, 0.05813953],\n",
              "       [0.96551724, 0.03448276],\n",
              "       [1.        , 0.        ],\n",
              "       [0.51086957, 0.48913043],\n",
              "       [1.        , 0.        ],\n",
              "       [0.00552486, 0.99447514],\n",
              "       [0.98170732, 0.01829268],\n",
              "       [0.03208556, 0.96791444],\n",
              "       [1.        , 0.        ],\n",
              "       [1.        , 0.        ],\n",
              "       [1.        , 0.        ],\n",
              "       [0.        , 1.        ],\n",
              "       [0.96373057, 0.03626943],\n",
              "       [0.        , 1.        ],\n",
              "       [0.06878307, 0.93121693],\n",
              "       [0.        , 1.        ],\n",
              "       [0.        , 1.        ],\n",
              "       [1.        , 0.        ],\n",
              "       [1.        , 0.        ],\n",
              "       [0.        , 1.        ],\n",
              "       [1.        , 0.        ],\n",
              "       [0.02777778, 0.97222222],\n",
              "       [1.        , 0.        ],\n",
              "       [0.14673913, 0.85326087],\n",
              "       [0.        , 1.        ],\n",
              "       [0.005     , 0.995     ],\n",
              "       [0.        , 1.        ],\n",
              "       [0.44041451, 0.55958549],\n",
              "       [0.11351351, 0.88648649],\n",
              "       [0.2320442 , 0.7679558 ],\n",
              "       [1.        , 0.        ],\n",
              "       [0.98941799, 0.01058201],\n",
              "       [0.24064171, 0.75935829],\n",
              "       [0.99441341, 0.00558659],\n",
              "       [0.        , 1.        ],\n",
              "       [0.        , 1.        ],\n",
              "       [1.        , 0.        ],\n",
              "       [0.95187166, 0.04812834],\n",
              "       [0.26737968, 0.73262032],\n",
              "       [0.98429319, 0.01570681],\n",
              "       [1.        , 0.        ],\n",
              "       [0.        , 1.        ],\n",
              "       [0.98958333, 0.01041667],\n",
              "       [0.        , 1.        ],\n",
              "       [0.03825137, 0.96174863],\n",
              "       [0.98963731, 0.01036269],\n",
              "       [1.        , 0.        ],\n",
              "       [0.03763441, 0.96236559],\n",
              "       [0.66477273, 0.33522727]])"
            ]
          },
          "metadata": {
            "tags": []
          },
          "execution_count": 13
        }
      ]
    },
    {
      "cell_type": "code",
      "metadata": {
        "colab": {
          "base_uri": "https://localhost:8080/"
        },
        "id": "MAZ0EVOirEvy",
        "outputId": "2fc3ed1f-1475-4cce-ae0a-de66d3f884d5"
      },
      "source": [
        "rnd_clf = RandomForestClassifier(n_estimators=500, max_leaf_nodes=16, n_jobs=-1)\n",
        "rnd_clf.fit(X_train, y_train)"
      ],
      "execution_count": null,
      "outputs": [
        {
          "output_type": "execute_result",
          "data": {
            "text/plain": [
              "RandomForestClassifier(bootstrap=True, ccp_alpha=0.0, class_weight=None,\n",
              "                       criterion='gini', max_depth=None, max_features='auto',\n",
              "                       max_leaf_nodes=16, max_samples=None,\n",
              "                       min_impurity_decrease=0.0, min_impurity_split=None,\n",
              "                       min_samples_leaf=1, min_samples_split=2,\n",
              "                       min_weight_fraction_leaf=0.0, n_estimators=500,\n",
              "                       n_jobs=-1, oob_score=False, random_state=None, verbose=0,\n",
              "                       warm_start=False)"
            ]
          },
          "metadata": {
            "tags": []
          },
          "execution_count": 14
        }
      ]
    },
    {
      "cell_type": "code",
      "metadata": {
        "id": "8bNWXeWVrc3a"
      },
      "source": [
        "y_pred_rf = rnd_clf.predict(X_test)"
      ],
      "execution_count": null,
      "outputs": []
    },
    {
      "cell_type": "code",
      "metadata": {
        "id": "xCJ7q5WurlKg"
      },
      "source": [
        "from sklearn.datasets import load_iris\n",
        "iris = load_iris()"
      ],
      "execution_count": null,
      "outputs": []
    },
    {
      "cell_type": "code",
      "metadata": {
        "colab": {
          "base_uri": "https://localhost:8080/"
        },
        "id": "aPLPsSmosCcK",
        "outputId": "7b358311-19f5-44ec-935f-adc26512928d"
      },
      "source": [
        "rnd_clf = RandomForestClassifier(n_estimators=500, n_jobs=-1)\n",
        "rnd_clf.fit(iris[\"data\"], iris[\"target\"])\n"
      ],
      "execution_count": null,
      "outputs": [
        {
          "output_type": "execute_result",
          "data": {
            "text/plain": [
              "RandomForestClassifier(bootstrap=True, ccp_alpha=0.0, class_weight=None,\n",
              "                       criterion='gini', max_depth=None, max_features='auto',\n",
              "                       max_leaf_nodes=None, max_samples=None,\n",
              "                       min_impurity_decrease=0.0, min_impurity_split=None,\n",
              "                       min_samples_leaf=1, min_samples_split=2,\n",
              "                       min_weight_fraction_leaf=0.0, n_estimators=500,\n",
              "                       n_jobs=-1, oob_score=False, random_state=None, verbose=0,\n",
              "                       warm_start=False)"
            ]
          },
          "metadata": {
            "tags": []
          },
          "execution_count": 17
        }
      ]
    },
    {
      "cell_type": "code",
      "metadata": {
        "colab": {
          "base_uri": "https://localhost:8080/"
        },
        "id": "T_g_vfL_sR9O",
        "outputId": "61239306-2722-4a40-c4d5-a62c75bd021e"
      },
      "source": [
        "for name, score in zip(iris[\"feature_names\"], rnd_clf.feature_importances_):\n",
        "  print(name, score)\n"
      ],
      "execution_count": null,
      "outputs": [
        {
          "output_type": "stream",
          "text": [
            "sepal length (cm) 0.10971837046318839\n",
            "sepal width (cm) 0.024520051694112102\n",
            "petal length (cm) 0.4360268787245228\n",
            "petal width (cm) 0.4297346991181768\n"
          ],
          "name": "stdout"
        }
      ]
    },
    {
      "cell_type": "code",
      "metadata": {
        "colab": {
          "base_uri": "https://localhost:8080/"
        },
        "id": "P1AvBQT5sf6M",
        "outputId": "604aa13b-b9f5-4636-b429-7b777df95a95"
      },
      "source": [
        "from sklearn.ensemble import AdaBoostClassifier\n",
        "\n",
        "ada_clf = AdaBoostClassifier(\n",
        "    DecisionTreeClassifier(max_depth=1), n_estimators=200,\n",
        "    algorithm = \"SAMME.R\", learning_rate=0.5\n",
        ")\n",
        "\n",
        "ada_clf.fit(X_train, y_train)"
      ],
      "execution_count": null,
      "outputs": [
        {
          "output_type": "execute_result",
          "data": {
            "text/plain": [
              "AdaBoostClassifier(algorithm='SAMME.R',\n",
              "                   base_estimator=DecisionTreeClassifier(ccp_alpha=0.0,\n",
              "                                                         class_weight=None,\n",
              "                                                         criterion='gini',\n",
              "                                                         max_depth=1,\n",
              "                                                         max_features=None,\n",
              "                                                         max_leaf_nodes=None,\n",
              "                                                         min_impurity_decrease=0.0,\n",
              "                                                         min_impurity_split=None,\n",
              "                                                         min_samples_leaf=1,\n",
              "                                                         min_samples_split=2,\n",
              "                                                         min_weight_fraction_leaf=0.0,\n",
              "                                                         presort='deprecated',\n",
              "                                                         random_state=None,\n",
              "                                                         splitter='best'),\n",
              "                   learning_rate=0.5, n_estimators=200, random_state=None)"
            ]
          },
          "metadata": {
            "tags": []
          },
          "execution_count": 19
        }
      ]
    },
    {
      "cell_type": "code",
      "metadata": {
        "id": "HN_8ZueLuKbm"
      },
      "source": [
        "import numpy as np\n",
        "\n",
        "np.random.seed(42)\n",
        "X = np.random.rand(100, 1) - 0.5\n",
        "y = 3*X[:, 0]**2 + 0.05 * np.random.randn(100)"
      ],
      "execution_count": null,
      "outputs": []
    },
    {
      "cell_type": "code",
      "metadata": {
        "colab": {
          "base_uri": "https://localhost:8080/"
        },
        "id": "SMJ5ISK6tdhX",
        "outputId": "11a257e6-f6ea-487e-e69b-d58c7925e205"
      },
      "source": [
        "from sklearn.ensemble import GradientBoostingRegressor\n",
        "gbrt = GradientBoostingRegressor(max_depth=2, n_estimators=3, learning_rate=1.0)\n",
        "gbrt.fit(X,y)"
      ],
      "execution_count": null,
      "outputs": [
        {
          "output_type": "execute_result",
          "data": {
            "text/plain": [
              "GradientBoostingRegressor(alpha=0.9, ccp_alpha=0.0, criterion='friedman_mse',\n",
              "                          init=None, learning_rate=1.0, loss='ls', max_depth=2,\n",
              "                          max_features=None, max_leaf_nodes=None,\n",
              "                          min_impurity_decrease=0.0, min_impurity_split=None,\n",
              "                          min_samples_leaf=1, min_samples_split=2,\n",
              "                          min_weight_fraction_leaf=0.0, n_estimators=3,\n",
              "                          n_iter_no_change=None, presort='deprecated',\n",
              "                          random_state=None, subsample=1.0, tol=0.0001,\n",
              "                          validation_fraction=0.1, verbose=0, warm_start=False)"
            ]
          },
          "metadata": {
            "tags": []
          },
          "execution_count": 21
        }
      ]
    },
    {
      "cell_type": "code",
      "metadata": {
        "id": "gmKm0U5FuJjg"
      },
      "source": [
        "from sklearn.model_selection import train_test_split\n",
        "from sklearn.metrics import mean_squared_error"
      ],
      "execution_count": null,
      "outputs": []
    },
    {
      "cell_type": "code",
      "metadata": {
        "id": "-j0fUzHOunyp"
      },
      "source": [
        "X_train, X_val, y_train, y_val = train_test_split(X,y)\n"
      ],
      "execution_count": null,
      "outputs": []
    },
    {
      "cell_type": "code",
      "metadata": {
        "colab": {
          "base_uri": "https://localhost:8080/"
        },
        "id": "9wCBAkoSuvic",
        "outputId": "808ff8a3-3606-461d-e7e1-150007fc2c57"
      },
      "source": [
        "gbrt = GradientBoostingRegressor(max_depth=2, n_estimators=120)\n",
        "gbrt.fit(X_train, y_train)"
      ],
      "execution_count": null,
      "outputs": [
        {
          "output_type": "execute_result",
          "data": {
            "text/plain": [
              "GradientBoostingRegressor(alpha=0.9, ccp_alpha=0.0, criterion='friedman_mse',\n",
              "                          init=None, learning_rate=0.1, loss='ls', max_depth=2,\n",
              "                          max_features=None, max_leaf_nodes=None,\n",
              "                          min_impurity_decrease=0.0, min_impurity_split=None,\n",
              "                          min_samples_leaf=1, min_samples_split=2,\n",
              "                          min_weight_fraction_leaf=0.0, n_estimators=120,\n",
              "                          n_iter_no_change=None, presort='deprecated',\n",
              "                          random_state=None, subsample=1.0, tol=0.0001,\n",
              "                          validation_fraction=0.1, verbose=0, warm_start=False)"
            ]
          },
          "metadata": {
            "tags": []
          },
          "execution_count": 24
        }
      ]
    },
    {
      "cell_type": "code",
      "metadata": {
        "colab": {
          "base_uri": "https://localhost:8080/"
        },
        "id": "hYdf7quhu87k",
        "outputId": "aa973638-5223-42e6-81e3-c7a22ab5ccc8"
      },
      "source": [
        "errors = [mean_squared_error(y_val, y_pred) for y_pred in gbrt.staged_predict(X_val)]\n",
        "bst_n_estimators = np.argmin(errors)\n",
        "\n",
        "gbrt_best = GradientBoostingRegressor(max_depth=2, n_estimators=bst_n_estimators)\n",
        "gbrt_best.fit(X_train, y_train)\n"
      ],
      "execution_count": null,
      "outputs": [
        {
          "output_type": "execute_result",
          "data": {
            "text/plain": [
              "GradientBoostingRegressor(alpha=0.9, ccp_alpha=0.0, criterion='friedman_mse',\n",
              "                          init=None, learning_rate=0.1, loss='ls', max_depth=2,\n",
              "                          max_features=None, max_leaf_nodes=None,\n",
              "                          min_impurity_decrease=0.0, min_impurity_split=None,\n",
              "                          min_samples_leaf=1, min_samples_split=2,\n",
              "                          min_weight_fraction_leaf=0.0, n_estimators=52,\n",
              "                          n_iter_no_change=None, presort='deprecated',\n",
              "                          random_state=None, subsample=1.0, tol=0.0001,\n",
              "                          validation_fraction=0.1, verbose=0, warm_start=False)"
            ]
          },
          "metadata": {
            "tags": []
          },
          "execution_count": 25
        }
      ]
    },
    {
      "cell_type": "code",
      "metadata": {
        "id": "1Trkq2C-vsXQ"
      },
      "source": [
        "min_error = np.min(errors)"
      ],
      "execution_count": null,
      "outputs": []
    },
    {
      "cell_type": "code",
      "metadata": {
        "id": "J3FBkK0wv6z1"
      },
      "source": [
        "import matplotlib.pyplot as plt\n"
      ],
      "execution_count": null,
      "outputs": []
    },
    {
      "cell_type": "code",
      "metadata": {
        "colab": {
          "base_uri": "https://localhost:8080/",
          "height": 313
        },
        "id": "j9fsH8tZwAKB",
        "outputId": "201145bd-b259-4ecb-edcb-75dad75a129a"
      },
      "source": [
        "plt.figure(figsize=(11, 4))\n",
        "\n",
        "plt.subplot(121)\n",
        "plt.plot(errors, \"b.-\")\n",
        "plt.plot([bst_n_estimators, bst_n_estimators], [0, min_error], \"k--\")\n",
        "plt.plot([0, 120], [min_error, min_error], \"k--\")\n",
        "plt.plot(bst_n_estimators, min_error, \"ko\")\n",
        "plt.text(bst_n_estimators, min_error*1.2, \"Minimum\", ha=\"center\", fontsize=14)\n",
        "plt.axis([0, 120, 0, 0.01])\n",
        "plt.xlabel(\"Number of trees\")\n",
        "plt.title(\"Validation error\", fontsize=14)"
      ],
      "execution_count": null,
      "outputs": [
        {
          "output_type": "execute_result",
          "data": {
            "text/plain": [
              "Text(0.5, 1.0, 'Validation error')"
            ]
          },
          "metadata": {
            "tags": []
          },
          "execution_count": 28
        },
        {
          "output_type": "display_data",
          "data": {
            "image/png": "[encoded data removed]",
            "text/plain": [
              "<Figure size 792x288 with 1 Axes>"
            ]
          },
          "metadata": {
            "tags": [],
            "needs_background": "light"
          }
        }
      ]
    },
    {
      "cell_type": "code",
      "metadata": {
        "id": "We4XssYOwAx3"
      },
      "source": [
        "gbrt = GradientBoostingRegressor(max_depth=2, warm_start=True)"
      ],
      "execution_count": null,
      "outputs": []
    },
    {
      "cell_type": "code",
      "metadata": {
        "id": "C27CPJwiwcDR"
      },
      "source": [
        "min_val_error = float(\"inf\")\n",
        "error_going_up =0\n",
        "for n_estimators in range(1,120):\n",
        "  gbrt.n_estimators = n_estimators\n",
        "  gbrt.fit(X_train, y_train)\n",
        "  y_pred = gbrt.predict(X_val)\n",
        "  val_error = mean_squared_error(y_val, y_pred)\n",
        "  if val_error < min_val_error:\n",
        "    min_val_error = val_error\n",
        "    error_going_up =0\n",
        "  else:\n",
        "    error_going_up += 1\n",
        "    if error_going_up == 5:\n",
        "      break "
      ],
      "execution_count": null,
      "outputs": []
    },
    {
      "cell_type": "code",
      "metadata": {
        "id": "lhhdC7atIXoi"
      },
      "source": [
        "import pandas as pd\n",
        "import os\n",
        "def load_tree_data(tree_path = \"/content\"):\n",
        "  csv_path = os.path.join(tree_path, \"treefaces.csv\")\n",
        "  return pd.read_csv(csv_path)"
      ],
      "execution_count": 73,
      "outputs": []
    },
    {
      "cell_type": "code",
      "metadata": {
        "colab": {
          "base_uri": "https://localhost:8080/"
        },
        "id": "T6SuhX32Is7E",
        "outputId": "31b71c38-99c0-48d1-f447-f20b0aaa8efe"
      },
      "source": [
        "tree= load_housing_data()\n",
        "tree.info()"
      ],
      "execution_count": 75,
      "outputs": [
        {
          "output_type": "stream",
          "text": [
            "<class 'pandas.core.frame.DataFrame'>\n",
            "RangeIndex: 746 entries, 0 to 745\n",
            "Data columns (total 10 columns):\n",
            " #   Column  Non-Null Count  Dtype  \n",
            "---  ------  --------------  -----  \n",
            " 0   MEAN    746 non-null    float64\n",
            " 1   STD     746 non-null    float64\n",
            " 2   Var     746 non-null    float64\n",
            " 3   f1      746 non-null    int64  \n",
            " 4   f2      746 non-null    int64  \n",
            " 5   f3      746 non-null    int64  \n",
            " 6   f4      746 non-null    int64  \n",
            " 7   f5      746 non-null    int64  \n",
            " 8   Label   746 non-null    int64  \n",
            " 9   Label2  746 non-null    int64  \n",
            "dtypes: float64(3), int64(7)\n",
            "memory usage: 58.4 KB\n"
          ],
          "name": "stdout"
        }
      ]
    },
    {
      "cell_type": "code",
      "metadata": {
        "colab": {
          "base_uri": "https://localhost:8080/"
        },
        "id": "jyF3uLHKJaVl",
        "outputId": "0ceed2c3-dea3-4bfa-b9ad-58edc63daaed"
      },
      "source": [
        "tree[\"Label\"].value_counts()"
      ],
      "execution_count": 76,
      "outputs": [
        {
          "output_type": "execute_result",
          "data": {
            "text/plain": [
              "1    189\n",
              "2    187\n",
              "0    186\n",
              "3    184\n",
              "Name: Label, dtype: int64"
            ]
          },
          "metadata": {
            "tags": []
          },
          "execution_count": 76
        }
      ]
    },
    {
      "cell_type": "code",
      "metadata": {
        "colab": {
          "base_uri": "https://localhost:8080/",
          "height": 297
        },
        "id": "aH1r6nRGJaq6",
        "outputId": "97e013d3-7b6e-4349-9375-a42a2d52f7a6"
      },
      "source": [
        "tree.describe()"
      ],
      "execution_count": 77,
      "outputs": [
        {
          "output_type": "execute_result",
          "data": {
            "text/html": [
              "<div>\n",
              "<style scoped>\n",
              "    .dataframe tbody tr th:only-of-type {\n",
              "        vertical-align: middle;\n",
              "    }\n",
              "\n",
              "    .dataframe tbody tr th {\n",
              "        vertical-align: top;\n",
              "    }\n",
              "\n",
              "    .dataframe thead th {\n",
              "        text-align: right;\n",
              "    }\n",
              "</style>\n",
              "<table border=\"1\" class=\"dataframe\">\n",
              "  <thead>\n",
              "    <tr style=\"text-align: right;\">\n",
              "      <th></th>\n",
              "      <th>MEAN</th>\n",
              "      <th>STD</th>\n",
              "      <th>Var</th>\n",
              "      <th>f1</th>\n",
              "      <th>f2</th>\n",
              "      <th>f3</th>\n",
              "      <th>f4</th>\n",
              "      <th>f5</th>\n",
              "      <th>Label</th>\n",
              "      <th>Label2</th>\n",
              "    </tr>\n",
              "  </thead>\n",
              "  <tbody>\n",
              "    <tr>\n",
              "      <th>count</th>\n",
              "      <td>746.000000</td>\n",
              "      <td>746.000000</td>\n",
              "      <td>746.000000</td>\n",
              "      <td>746.000000</td>\n",
              "      <td>746.000000</td>\n",
              "      <td>746.000000</td>\n",
              "      <td>746.000000</td>\n",
              "      <td>746.000000</td>\n",
              "      <td>746.000000</td>\n",
              "      <td>746.000000</td>\n",
              "    </tr>\n",
              "    <tr>\n",
              "      <th>mean</th>\n",
              "      <td>0.774201</td>\n",
              "      <td>0.095536</td>\n",
              "      <td>0.009536</td>\n",
              "      <td>71.969169</td>\n",
              "      <td>152.844504</td>\n",
              "      <td>280.620643</td>\n",
              "      <td>583.403485</td>\n",
              "      <td>466.128686</td>\n",
              "      <td>1.494638</td>\n",
              "      <td>0.497319</td>\n",
              "    </tr>\n",
              "    <tr>\n",
              "      <th>std</th>\n",
              "      <td>0.035757</td>\n",
              "      <td>0.020233</td>\n",
              "      <td>0.004332</td>\n",
              "      <td>51.658952</td>\n",
              "      <td>63.940534</td>\n",
              "      <td>156.185588</td>\n",
              "      <td>291.406834</td>\n",
              "      <td>448.120210</td>\n",
              "      <td>1.115166</td>\n",
              "      <td>0.500328</td>\n",
              "    </tr>\n",
              "    <tr>\n",
              "      <th>min</th>\n",
              "      <td>0.647798</td>\n",
              "      <td>0.057957</td>\n",
              "      <td>0.003359</td>\n",
              "      <td>0.000000</td>\n",
              "      <td>28.000000</td>\n",
              "      <td>86.000000</td>\n",
              "      <td>0.000000</td>\n",
              "      <td>0.000000</td>\n",
              "      <td>0.000000</td>\n",
              "      <td>0.000000</td>\n",
              "    </tr>\n",
              "    <tr>\n",
              "      <th>25%</th>\n",
              "      <td>0.752596</td>\n",
              "      <td>0.081829</td>\n",
              "      <td>0.006696</td>\n",
              "      <td>39.250000</td>\n",
              "      <td>112.000000</td>\n",
              "      <td>181.000000</td>\n",
              "      <td>342.000000</td>\n",
              "      <td>31.000000</td>\n",
              "      <td>1.000000</td>\n",
              "      <td>0.000000</td>\n",
              "    </tr>\n",
              "    <tr>\n",
              "      <th>50%</th>\n",
              "      <td>0.776877</td>\n",
              "      <td>0.092328</td>\n",
              "      <td>0.008525</td>\n",
              "      <td>63.000000</td>\n",
              "      <td>141.000000</td>\n",
              "      <td>231.000000</td>\n",
              "      <td>546.500000</td>\n",
              "      <td>353.000000</td>\n",
              "      <td>1.000000</td>\n",
              "      <td>0.000000</td>\n",
              "    </tr>\n",
              "    <tr>\n",
              "      <th>75%</th>\n",
              "      <td>0.800334</td>\n",
              "      <td>0.104436</td>\n",
              "      <td>0.010907</td>\n",
              "      <td>89.000000</td>\n",
              "      <td>185.750000</td>\n",
              "      <td>327.750000</td>\n",
              "      <td>799.500000</td>\n",
              "      <td>832.250000</td>\n",
              "      <td>2.000000</td>\n",
              "      <td>1.000000</td>\n",
              "    </tr>\n",
              "    <tr>\n",
              "      <th>max</th>\n",
              "      <td>0.869452</td>\n",
              "      <td>0.166250</td>\n",
              "      <td>0.027639</td>\n",
              "      <td>466.000000</td>\n",
              "      <td>838.000000</td>\n",
              "      <td>1055.000000</td>\n",
              "      <td>1705.000000</td>\n",
              "      <td>1658.000000</td>\n",
              "      <td>3.000000</td>\n",
              "      <td>1.000000</td>\n",
              "    </tr>\n",
              "  </tbody>\n",
              "</table>\n",
              "</div>"
            ],
            "text/plain": [
              "             MEAN         STD         Var  ...           f5       Label      Label2\n",
              "count  746.000000  746.000000  746.000000  ...   746.000000  746.000000  746.000000\n",
              "mean     0.774201    0.095536    0.009536  ...   466.128686    1.494638    0.497319\n",
              "std      0.035757    0.020233    0.004332  ...   448.120210    1.115166    0.500328\n",
              "min      0.647798    0.057957    0.003359  ...     0.000000    0.000000    0.000000\n",
              "25%      0.752596    0.081829    0.006696  ...    31.000000    1.000000    0.000000\n",
              "50%      0.776877    0.092328    0.008525  ...   353.000000    1.000000    0.000000\n",
              "75%      0.800334    0.104436    0.010907  ...   832.250000    2.000000    1.000000\n",
              "max      0.869452    0.166250    0.027639  ...  1658.000000    3.000000    1.000000\n",
              "\n",
              "[8 rows x 10 columns]"
            ]
          },
          "metadata": {
            "tags": []
          },
          "execution_count": 77
        }
      ]
    },
    {
      "cell_type": "code",
      "metadata": {
        "colab": {
          "base_uri": "https://localhost:8080/",
          "height": 879
        },
        "id": "WHLe1HdtJa3j",
        "outputId": "7343f7ce-9f50-43c7-a4c7-3204ad4efa96"
      },
      "source": [
        "%matplotlib inline\n",
        "import matplotlib.pyplot as plt\n",
        "tree.hist(bins=50, figsize=(20,15))\n",
        "plt.show()"
      ],
      "execution_count": 79,
      "outputs": [
        {
          "output_type": "display_data",
          "data": {
            "image/png": "[encoded data removed]",
            "text/plain": [
              "<Figure size 1440x1080 with 12 Axes>"
            ]
          },
          "metadata": {
            "tags": [],
            "needs_background": "light"
          }
        }
      ]
    },
    {
      "cell_type": "code",
      "metadata": {
        "id": "L6-m0MD5JbCs"
      },
      "source": [
        "from sklearn.model_selection import StratifiedShuffleSplit\n",
        "split = StratifiedShuffleSplit(n_splits=1, test_size=0.2, random_state=42)\n",
        "for train_index, test_index in split.split(tree, tree[\"Label\"]):\n",
        "  strat_train_set = tree.loc[train_index]\n",
        "  strat_test_set = tree.loc[test_index]"
      ],
      "execution_count": 82,
      "outputs": []
    },
    {
      "cell_type": "code",
      "metadata": {
        "colab": {
          "base_uri": "https://localhost:8080/"
        },
        "id": "CEZ8quGlJbNW",
        "outputId": "30682a90-4905-47f1-9d84-778b5cecb271"
      },
      "source": [
        "strat_train_set[\"Label\"].value_counts()/len(strat_train_set)"
      ],
      "execution_count": 83,
      "outputs": [
        {
          "output_type": "execute_result",
          "data": {
            "text/plain": [
              "1    0.253356\n",
              "2    0.250000\n",
              "0    0.250000\n",
              "3    0.246644\n",
              "Name: Label, dtype: float64"
            ]
          },
          "metadata": {
            "tags": []
          },
          "execution_count": 83
        }
      ]
    },
    {
      "cell_type": "code",
      "metadata": {
        "colab": {
          "base_uri": "https://localhost:8080/"
        },
        "id": "BvZgM1I4McYf",
        "outputId": "ebce2d05-fec0-4a38-f184-f86dc64f961c"
      },
      "source": [
        "strat_test_set[\"Label\"].value_counts()/len(strat_test_set)"
      ],
      "execution_count": 85,
      "outputs": [
        {
          "output_type": "execute_result",
          "data": {
            "text/plain": [
              "2    0.253333\n",
              "1    0.253333\n",
              "3    0.246667\n",
              "0    0.246667\n",
              "Name: Label, dtype: float64"
            ]
          },
          "metadata": {
            "tags": []
          },
          "execution_count": 85
        }
      ]
    },
    {
      "cell_type": "code",
      "metadata": {
        "colab": {
          "base_uri": "https://localhost:8080/",
          "height": 419
        },
        "id": "2WB1SSi8MckS",
        "outputId": "ca786b0f-9d52-4b71-bcb0-5f54e5619205"
      },
      "source": [
        "strat_test_set"
      ],
      "execution_count": 86,
      "outputs": [
        {
          "output_type": "execute_result",
          "data": {
            "text/html": [
              "<div>\n",
              "<style scoped>\n",
              "    .dataframe tbody tr th:only-of-type {\n",
              "        vertical-align: middle;\n",
              "    }\n",
              "\n",
              "    .dataframe tbody tr th {\n",
              "        vertical-align: top;\n",
              "    }\n",
              "\n",
              "    .dataframe thead th {\n",
              "        text-align: right;\n",
              "    }\n",
              "</style>\n",
              "<table border=\"1\" class=\"dataframe\">\n",
              "  <thead>\n",
              "    <tr style=\"text-align: right;\">\n",
              "      <th></th>\n",
              "      <th>MEAN</th>\n",
              "      <th>STD</th>\n",
              "      <th>Var</th>\n",
              "      <th>f1</th>\n",
              "      <th>f2</th>\n",
              "      <th>f3</th>\n",
              "      <th>f4</th>\n",
              "      <th>f5</th>\n",
              "      <th>Label</th>\n",
              "      <th>Label2</th>\n",
              "    </tr>\n",
              "  </thead>\n",
              "  <tbody>\n",
              "    <tr>\n",
              "      <th>670</th>\n",
              "      <td>0.759791</td>\n",
              "      <td>0.117216</td>\n",
              "      <td>0.013740</td>\n",
              "      <td>124</td>\n",
              "      <td>118</td>\n",
              "      <td>181</td>\n",
              "      <td>687</td>\n",
              "      <td>283</td>\n",
              "      <td>3</td>\n",
              "      <td>1</td>\n",
              "    </tr>\n",
              "    <tr>\n",
              "      <th>656</th>\n",
              "      <td>0.799370</td>\n",
              "      <td>0.090963</td>\n",
              "      <td>0.008274</td>\n",
              "      <td>28</td>\n",
              "      <td>90</td>\n",
              "      <td>173</td>\n",
              "      <td>369</td>\n",
              "      <td>587</td>\n",
              "      <td>1</td>\n",
              "      <td>0</td>\n",
              "    </tr>\n",
              "    <tr>\n",
              "      <th>164</th>\n",
              "      <td>0.722427</td>\n",
              "      <td>0.089429</td>\n",
              "      <td>0.007998</td>\n",
              "      <td>73</td>\n",
              "      <td>229</td>\n",
              "      <td>453</td>\n",
              "      <td>599</td>\n",
              "      <td>0</td>\n",
              "      <td>0</td>\n",
              "      <td>0</td>\n",
              "    </tr>\n",
              "    <tr>\n",
              "      <th>181</th>\n",
              "      <td>0.756438</td>\n",
              "      <td>0.098910</td>\n",
              "      <td>0.009783</td>\n",
              "      <td>88</td>\n",
              "      <td>185</td>\n",
              "      <td>264</td>\n",
              "      <td>893</td>\n",
              "      <td>130</td>\n",
              "      <td>1</td>\n",
              "      <td>0</td>\n",
              "    </tr>\n",
              "    <tr>\n",
              "      <th>377</th>\n",
              "      <td>0.759035</td>\n",
              "      <td>0.077881</td>\n",
              "      <td>0.006065</td>\n",
              "      <td>41</td>\n",
              "      <td>152</td>\n",
              "      <td>303</td>\n",
              "      <td>944</td>\n",
              "      <td>6</td>\n",
              "      <td>1</td>\n",
              "      <td>0</td>\n",
              "    </tr>\n",
              "    <tr>\n",
              "      <th>...</th>\n",
              "      <td>...</td>\n",
              "      <td>...</td>\n",
              "      <td>...</td>\n",
              "      <td>...</td>\n",
              "      <td>...</td>\n",
              "      <td>...</td>\n",
              "      <td>...</td>\n",
              "      <td>...</td>\n",
              "      <td>...</td>\n",
              "      <td>...</td>\n",
              "    </tr>\n",
              "    <tr>\n",
              "      <th>307</th>\n",
              "      <td>0.792179</td>\n",
              "      <td>0.088024</td>\n",
              "      <td>0.007748</td>\n",
              "      <td>35</td>\n",
              "      <td>171</td>\n",
              "      <td>288</td>\n",
              "      <td>591</td>\n",
              "      <td>775</td>\n",
              "      <td>0</td>\n",
              "      <td>0</td>\n",
              "    </tr>\n",
              "    <tr>\n",
              "      <th>302</th>\n",
              "      <td>0.801106</td>\n",
              "      <td>0.097205</td>\n",
              "      <td>0.009449</td>\n",
              "      <td>63</td>\n",
              "      <td>123</td>\n",
              "      <td>192</td>\n",
              "      <td>459</td>\n",
              "      <td>843</td>\n",
              "      <td>0</td>\n",
              "      <td>0</td>\n",
              "    </tr>\n",
              "    <tr>\n",
              "      <th>736</th>\n",
              "      <td>0.758198</td>\n",
              "      <td>0.097763</td>\n",
              "      <td>0.009558</td>\n",
              "      <td>62</td>\n",
              "      <td>135</td>\n",
              "      <td>228</td>\n",
              "      <td>727</td>\n",
              "      <td>113</td>\n",
              "      <td>3</td>\n",
              "      <td>1</td>\n",
              "    </tr>\n",
              "    <tr>\n",
              "      <th>523</th>\n",
              "      <td>0.689204</td>\n",
              "      <td>0.065347</td>\n",
              "      <td>0.004270</td>\n",
              "      <td>42</td>\n",
              "      <td>256</td>\n",
              "      <td>684</td>\n",
              "      <td>85</td>\n",
              "      <td>0</td>\n",
              "      <td>0</td>\n",
              "      <td>0</td>\n",
              "    </tr>\n",
              "    <tr>\n",
              "      <th>595</th>\n",
              "      <td>0.810753</td>\n",
              "      <td>0.070801</td>\n",
              "      <td>0.005013</td>\n",
              "      <td>11</td>\n",
              "      <td>52</td>\n",
              "      <td>129</td>\n",
              "      <td>434</td>\n",
              "      <td>546</td>\n",
              "      <td>1</td>\n",
              "      <td>0</td>\n",
              "    </tr>\n",
              "  </tbody>\n",
              "</table>\n",
              "<p>150 rows × 10 columns</p>\n",
              "</div>"
            ],
            "text/plain": [
              "         MEAN       STD       Var   f1   f2   f3   f4   f5  Label  Label2\n",
              "670  0.759791  0.117216  0.013740  124  118  181  687  283      3       1\n",
              "656  0.799370  0.090963  0.008274   28   90  173  369  587      1       0\n",
              "164  0.722427  0.089429  0.007998   73  229  453  599    0      0       0\n",
              "181  0.756438  0.098910  0.009783   88  185  264  893  130      1       0\n",
              "377  0.759035  0.077881  0.006065   41  152  303  944    6      1       0\n",
              "..        ...       ...       ...  ...  ...  ...  ...  ...    ...     ...\n",
              "307  0.792179  0.088024  0.007748   35  171  288  591  775      0       0\n",
              "302  0.801106  0.097205  0.009449   63  123  192  459  843      0       0\n",
              "736  0.758198  0.097763  0.009558   62  135  228  727  113      3       1\n",
              "523  0.689204  0.065347  0.004270   42  256  684   85    0      0       0\n",
              "595  0.810753  0.070801  0.005013   11   52  129  434  546      1       0\n",
              "\n",
              "[150 rows x 10 columns]"
            ]
          },
          "metadata": {
            "tags": []
          },
          "execution_count": 86
        }
      ]
    },
    {
      "cell_type": "code",
      "metadata": {
        "id": "cYFrEodcMcvq"
      },
      "source": [
        "tree = strat_train_set.copy()"
      ],
      "execution_count": 87,
      "outputs": []
    },
    {
      "cell_type": "code",
      "metadata": {
        "colab": {
          "base_uri": "https://localhost:8080/",
          "height": 419
        },
        "id": "1dQrTc-gMc7x",
        "outputId": "d17a6df1-002c-418d-805a-a168872beddf"
      },
      "source": [
        "tree"
      ],
      "execution_count": 88,
      "outputs": [
        {
          "output_type": "execute_result",
          "data": {
            "text/html": [
              "<div>\n",
              "<style scoped>\n",
              "    .dataframe tbody tr th:only-of-type {\n",
              "        vertical-align: middle;\n",
              "    }\n",
              "\n",
              "    .dataframe tbody tr th {\n",
              "        vertical-align: top;\n",
              "    }\n",
              "\n",
              "    .dataframe thead th {\n",
              "        text-align: right;\n",
              "    }\n",
              "</style>\n",
              "<table border=\"1\" class=\"dataframe\">\n",
              "  <thead>\n",
              "    <tr style=\"text-align: right;\">\n",
              "      <th></th>\n",
              "      <th>MEAN</th>\n",
              "      <th>STD</th>\n",
              "      <th>Var</th>\n",
              "      <th>f1</th>\n",
              "      <th>f2</th>\n",
              "      <th>f3</th>\n",
              "      <th>f4</th>\n",
              "      <th>f5</th>\n",
              "      <th>Label</th>\n",
              "      <th>Label2</th>\n",
              "    </tr>\n",
              "  </thead>\n",
              "  <tbody>\n",
              "    <tr>\n",
              "      <th>198</th>\n",
              "      <td>0.801694</td>\n",
              "      <td>0.162361</td>\n",
              "      <td>0.026361</td>\n",
              "      <td>250</td>\n",
              "      <td>425</td>\n",
              "      <td>254</td>\n",
              "      <td>217</td>\n",
              "      <td>1522</td>\n",
              "      <td>3</td>\n",
              "      <td>1</td>\n",
              "    </tr>\n",
              "    <tr>\n",
              "      <th>511</th>\n",
              "      <td>0.709053</td>\n",
              "      <td>0.077384</td>\n",
              "      <td>0.005988</td>\n",
              "      <td>64</td>\n",
              "      <td>264</td>\n",
              "      <td>681</td>\n",
              "      <td>394</td>\n",
              "      <td>0</td>\n",
              "      <td>1</td>\n",
              "      <td>0</td>\n",
              "    </tr>\n",
              "    <tr>\n",
              "      <th>280</th>\n",
              "      <td>0.797907</td>\n",
              "      <td>0.099812</td>\n",
              "      <td>0.009962</td>\n",
              "      <td>65</td>\n",
              "      <td>128</td>\n",
              "      <td>181</td>\n",
              "      <td>399</td>\n",
              "      <td>814</td>\n",
              "      <td>2</td>\n",
              "      <td>1</td>\n",
              "    </tr>\n",
              "    <tr>\n",
              "      <th>610</th>\n",
              "      <td>0.774310</td>\n",
              "      <td>0.128508</td>\n",
              "      <td>0.016514</td>\n",
              "      <td>166</td>\n",
              "      <td>136</td>\n",
              "      <td>187</td>\n",
              "      <td>417</td>\n",
              "      <td>763</td>\n",
              "      <td>3</td>\n",
              "      <td>1</td>\n",
              "    </tr>\n",
              "    <tr>\n",
              "      <th>40</th>\n",
              "      <td>0.757700</td>\n",
              "      <td>0.094584</td>\n",
              "      <td>0.008946</td>\n",
              "      <td>85</td>\n",
              "      <td>178</td>\n",
              "      <td>263</td>\n",
              "      <td>990</td>\n",
              "      <td>72</td>\n",
              "      <td>0</td>\n",
              "      <td>0</td>\n",
              "    </tr>\n",
              "    <tr>\n",
              "      <th>...</th>\n",
              "      <td>...</td>\n",
              "      <td>...</td>\n",
              "      <td>...</td>\n",
              "      <td>...</td>\n",
              "      <td>...</td>\n",
              "      <td>...</td>\n",
              "      <td>...</td>\n",
              "      <td>...</td>\n",
              "      <td>...</td>\n",
              "      <td>...</td>\n",
              "    </tr>\n",
              "    <tr>\n",
              "      <th>101</th>\n",
              "      <td>0.761982</td>\n",
              "      <td>0.115779</td>\n",
              "      <td>0.013405</td>\n",
              "      <td>108</td>\n",
              "      <td>160</td>\n",
              "      <td>231</td>\n",
              "      <td>569</td>\n",
              "      <td>417</td>\n",
              "      <td>0</td>\n",
              "      <td>0</td>\n",
              "    </tr>\n",
              "    <tr>\n",
              "      <th>299</th>\n",
              "      <td>0.786095</td>\n",
              "      <td>0.115153</td>\n",
              "      <td>0.013260</td>\n",
              "      <td>92</td>\n",
              "      <td>130</td>\n",
              "      <td>182</td>\n",
              "      <td>424</td>\n",
              "      <td>710</td>\n",
              "      <td>0</td>\n",
              "      <td>0</td>\n",
              "    </tr>\n",
              "    <tr>\n",
              "      <th>641</th>\n",
              "      <td>0.802117</td>\n",
              "      <td>0.104231</td>\n",
              "      <td>0.010864</td>\n",
              "      <td>85</td>\n",
              "      <td>128</td>\n",
              "      <td>187</td>\n",
              "      <td>404</td>\n",
              "      <td>1018</td>\n",
              "      <td>3</td>\n",
              "      <td>1</td>\n",
              "    </tr>\n",
              "    <tr>\n",
              "      <th>4</th>\n",
              "      <td>0.672874</td>\n",
              "      <td>0.065519</td>\n",
              "      <td>0.004293</td>\n",
              "      <td>89</td>\n",
              "      <td>394</td>\n",
              "      <td>925</td>\n",
              "      <td>0</td>\n",
              "      <td>0</td>\n",
              "      <td>0</td>\n",
              "      <td>0</td>\n",
              "    </tr>\n",
              "    <tr>\n",
              "      <th>306</th>\n",
              "      <td>0.781654</td>\n",
              "      <td>0.105556</td>\n",
              "      <td>0.011142</td>\n",
              "      <td>74</td>\n",
              "      <td>132</td>\n",
              "      <td>247</td>\n",
              "      <td>390</td>\n",
              "      <td>602</td>\n",
              "      <td>0</td>\n",
              "      <td>0</td>\n",
              "    </tr>\n",
              "  </tbody>\n",
              "</table>\n",
              "<p>596 rows × 10 columns</p>\n",
              "</div>"
            ],
            "text/plain": [
              "         MEAN       STD       Var   f1   f2   f3   f4    f5  Label  Label2\n",
              "198  0.801694  0.162361  0.026361  250  425  254  217  1522      3       1\n",
              "511  0.709053  0.077384  0.005988   64  264  681  394     0      1       0\n",
              "280  0.797907  0.099812  0.009962   65  128  181  399   814      2       1\n",
              "610  0.774310  0.128508  0.016514  166  136  187  417   763      3       1\n",
              "40   0.757700  0.094584  0.008946   85  178  263  990    72      0       0\n",
              "..        ...       ...       ...  ...  ...  ...  ...   ...    ...     ...\n",
              "101  0.761982  0.115779  0.013405  108  160  231  569   417      0       0\n",
              "299  0.786095  0.115153  0.013260   92  130  182  424   710      0       0\n",
              "641  0.802117  0.104231  0.010864   85  128  187  404  1018      3       1\n",
              "4    0.672874  0.065519  0.004293   89  394  925    0     0      0       0\n",
              "306  0.781654  0.105556  0.011142   74  132  247  390   602      0       0\n",
              "\n",
              "[596 rows x 10 columns]"
            ]
          },
          "metadata": {
            "tags": []
          },
          "execution_count": 88
        }
      ]
    },
    {
      "cell_type": "code",
      "metadata": {
        "colab": {
          "base_uri": "https://localhost:8080/"
        },
        "id": "tNQ1xgl3MdHX",
        "outputId": "91c367af-f871-4724-c63c-52520a8f1e86"
      },
      "source": [
        "corr_matrix = tree.corr()\n",
        "corr_matrix[\"Label\"].sort_values(ascending=False)"
      ],
      "execution_count": 90,
      "outputs": [
        {
          "output_type": "execute_result",
          "data": {
            "text/plain": [
              "Label     1.000000\n",
              "Label2    0.893824\n",
              "f5        0.588421\n",
              "MEAN      0.541449\n",
              "Var       0.356667\n",
              "STD       0.354754\n",
              "f1        0.187001\n",
              "f2       -0.120619\n",
              "f4       -0.191342\n",
              "f3       -0.444833\n",
              "Name: Label, dtype: float64"
            ]
          },
          "metadata": {
            "tags": []
          },
          "execution_count": 90
        }
      ]
    },
    {
      "cell_type": "code",
      "metadata": {
        "colab": {
          "base_uri": "https://localhost:8080/",
          "height": 1000
        },
        "id": "4icaeOc9M-pB",
        "outputId": "f91e5ccd-c1bb-4fe2-c31b-238f656c4f6e"
      },
      "source": [
        "from pandas.plotting import scatter_matrix\n",
        "attributes = [\"Label\", \"f5\", \"MEAN\",\n",
        "              \"Var\", \"STD\", \"f3\"]\n",
        "scatter_matrix(tree[attributes], figsize=(12,8))"
      ],
      "execution_count": 92,
      "outputs": [
        {
          "output_type": "execute_result",
          "data": {
            "text/plain": [
              "array([[<matplotlib.axes._subplots.AxesSubplot object at 0x7f3f5c0bbc88>,\n",
              "        <matplotlib.axes._subplots.AxesSubplot object at 0x7f3f5c0b6160>,\n",
              "        <matplotlib.axes._subplots.AxesSubplot object at 0x7f3f5c0cc3c8>,\n",
              "        <matplotlib.axes._subplots.AxesSubplot object at 0x7f3f5c082630>,\n",
              "        <matplotlib.axes._subplots.AxesSubplot object at 0x7f3f5c030fd0>,\n",
              "        <matplotlib.axes._subplots.AxesSubplot object at 0x7f3f5c068390>],\n",
              "       [<matplotlib.axes._subplots.AxesSubplot object at 0x7f3f5c018710>,\n",
              "        <matplotlib.axes._subplots.AxesSubplot object at 0x7f3f5bfc5a58>,\n",
              "        <matplotlib.axes._subplots.AxesSubplot object at 0x7f3f5bfc5ac8>,\n",
              "        <matplotlib.axes._subplots.AxesSubplot object at 0x7f3f5bf301d0>,\n",
              "        <matplotlib.axes._subplots.AxesSubplot object at 0x7f3f5bf62550>,\n",
              "        <matplotlib.axes._subplots.AxesSubplot object at 0x7f3f5bf108d0>],\n",
              "       [<matplotlib.axes._subplots.AxesSubplot object at 0x7f3f5bec3c50>,\n",
              "        <matplotlib.axes._subplots.AxesSubplot object at 0x7f3f5be74fd0>,\n",
              "        <matplotlib.axes._subplots.AxesSubplot object at 0x7f3f5be34390>,\n",
              "        <matplotlib.axes._subplots.AxesSubplot object at 0x7f3f5be65710>,\n",
              "        <matplotlib.axes._subplots.AxesSubplot object at 0x7f3f5be18a90>,\n",
              "        <matplotlib.axes._subplots.AxesSubplot object at 0x7f3f5c3ff080>],\n",
              "       [<matplotlib.axes._subplots.AxesSubplot object at 0x7f3f5c3ec518>,\n",
              "        <matplotlib.axes._subplots.AxesSubplot object at 0x7f3f5c39c0f0>,\n",
              "        <matplotlib.axes._subplots.AxesSubplot object at 0x7f3f5c406240>,\n",
              "        <matplotlib.axes._subplots.AxesSubplot object at 0x7f3f5c4f8f28>,\n",
              "        <matplotlib.axes._subplots.AxesSubplot object at 0x7f3f5c692f98>,\n",
              "        <matplotlib.axes._subplots.AxesSubplot object at 0x7f3f5c4a8390>],\n",
              "       [<matplotlib.axes._subplots.AxesSubplot object at 0x7f3f5c7f9908>,\n",
              "        <matplotlib.axes._subplots.AxesSubplot object at 0x7f3f5c65b438>,\n",
              "        <matplotlib.axes._subplots.AxesSubplot object at 0x7f3f5ca6fc88>,\n",
              "        <matplotlib.axes._subplots.AxesSubplot object at 0x7f3f5c8df0b8>,\n",
              "        <matplotlib.axes._subplots.AxesSubplot object at 0x7f3f5c820358>,\n",
              "        <matplotlib.axes._subplots.AxesSubplot object at 0x7f3f5c8952e8>],\n",
              "       [<matplotlib.axes._subplots.AxesSubplot object at 0x7f3f5c7aa320>,\n",
              "        <matplotlib.axes._subplots.AxesSubplot object at 0x7f3f5c82df60>,\n",
              "        <matplotlib.axes._subplots.AxesSubplot object at 0x7f3f5cb04e48>,\n",
              "        <matplotlib.axes._subplots.AxesSubplot object at 0x7f3f5c803128>,\n",
              "        <matplotlib.axes._subplots.AxesSubplot object at 0x7f3f5c605390>,\n",
              "        <matplotlib.axes._subplots.AxesSubplot object at 0x7f3f5c4d05f8>]],\n",
              "      dtype=object)"
            ]
          },
          "metadata": {
            "tags": []
          },
          "execution_count": 92
        },
        {
          "output_type": "display_data",
          "data": {
            "image/png": "[encoded data removed]",
            "text/plain": [
              "<Figure size 864x576 with 36 Axes>"
            ]
          },
          "metadata": {
            "tags": [],
            "needs_background": "light"
          }
        }
      ]
    },
    {
      "cell_type": "code",
      "metadata": {
        "id": "MhSzRw4tM-1p"
      },
      "source": [
        "tree1 = strat_train_set.drop(\"Label\", axis=1)\n",
        "tree = tree1.drop(\"Label2\", axis=1)\n",
        "tree_labels = strat_train_set[\"Label\"].copy()\n",
        "\n",
        "tree1_test = strat_test_set.drop(\"Label\", axis=1)\n",
        "tree_test = tree1_test.drop(\"Label2\", axis=1)\n",
        "tree_test_labels = strat_test_set[\"Label\"].copy()"
      ],
      "execution_count": 99,
      "outputs": []
    },
    {
      "cell_type": "code",
      "metadata": {
        "colab": {
          "base_uri": "https://localhost:8080/"
        },
        "id": "bMMBDlarM_A5",
        "outputId": "e22d2e95-d928-44f9-96de-d5dec3599f0d"
      },
      "source": [
        ""
      ],
      "execution_count": 101,
      "outputs": [
        {
          "output_type": "execute_result",
          "data": {
            "text/plain": [
              "670    3\n",
              "656    1\n",
              "164    0\n",
              "181    1\n",
              "377    1\n",
              "      ..\n",
              "307    0\n",
              "302    0\n",
              "736    3\n",
              "523    0\n",
              "595    1\n",
              "Name: Label, Length: 150, dtype: int64"
            ]
          },
          "metadata": {
            "tags": []
          },
          "execution_count": 101
        }
      ]
    },
    {
      "cell_type": "code",
      "metadata": {
        "id": "Mc-Zi82NM_KZ"
      },
      "source": [
        "X_train, X_val, y_train, y_val = tree, tree_test, tree_labels, tree_test_labels"
      ],
      "execution_count": 112,
      "outputs": []
    },
    {
      "cell_type": "code",
      "metadata": {
        "colab": {
          "base_uri": "https://localhost:8080/"
        },
        "id": "AZ9Ih4nZM_Ue",
        "outputId": "9b1e2b05-1c11-4de8-dd76-f519748a459a"
      },
      "source": [
        ""
      ],
      "execution_count": 106,
      "outputs": [
        {
          "output_type": "execute_result",
          "data": {
            "text/plain": [
              "670    3\n",
              "656    1\n",
              "164    0\n",
              "181    1\n",
              "377    1\n",
              "      ..\n",
              "307    0\n",
              "302    0\n",
              "736    3\n",
              "523    0\n",
              "595    1\n",
              "Name: Label, Length: 150, dtype: int64"
            ]
          },
          "metadata": {
            "tags": []
          },
          "execution_count": 106
        }
      ]
    },
    {
      "cell_type": "code",
      "metadata": {
        "id": "egU8ZY3bM_g5"
      },
      "source": [
        ""
      ],
      "execution_count": null,
      "outputs": []
    },
    {
      "cell_type": "code",
      "metadata": {
        "id": "rRr87S-XM_sg"
      },
      "source": [
        ""
      ],
      "execution_count": null,
      "outputs": []
    },
    {
      "cell_type": "code",
      "metadata": {
        "id": "gIHy44RuM_4G"
      },
      "source": [
        ""
      ],
      "execution_count": null,
      "outputs": []
    },
    {
      "cell_type": "code",
      "metadata": {
        "id": "eX_qL76fxSai"
      },
      "source": [
        ""
      ],
      "execution_count": null,
      "outputs": []
    },
    {
      "cell_type": "code",
      "metadata": {
        "id": "syiyT_sY9UQW"
      },
      "source": [
        ""
      ],
      "execution_count": null,
      "outputs": []
    },
    {
      "cell_type": "code",
      "metadata": {
        "id": "BFuSGq1N9rV1"
      },
      "source": [
        ""
      ],
      "execution_count": null,
      "outputs": []
    },
    {
      "cell_type": "code",
      "metadata": {
        "id": "Lkvn8p-k9z5i"
      },
      "source": [
        "from sklearn.ensemble import RandomForestClassifier, ExtraTreesClassifier\n",
        "from sklearn.svm import LinearSVC\n",
        "from sklearn.neural_network import MLPClassifier"
      ],
      "execution_count": 113,
      "outputs": []
    },
    {
      "cell_type": "code",
      "metadata": {
        "id": "j1OeWeba-3QX"
      },
      "source": [
        "rf_clf = RandomForestClassifier(n_estimators=10, random_state=42)\n",
        "ex_clf = ExtraTreesClassifier(n_estimators=10, random_state=42)\n",
        "svm_clf = LinearSVC(random_state=42)\n",
        "mlp_clf = MLPClassifier(random_state=42)"
      ],
      "execution_count": 114,
      "outputs": []
    },
    {
      "cell_type": "code",
      "metadata": {
        "colab": {
          "base_uri": "https://localhost:8080/"
        },
        "id": "Ug5WRWTL_S2e",
        "outputId": "0fe8f0bb-e6c3-4add-9fa6-fe3c9fd903ba"
      },
      "source": [
        "estimators = [rf_clf, ex_clf, svm_clf, mlp_clf]\n",
        "for estimator in estimators:\n",
        "  print(\"Training the \", estimator)\n",
        "  estimator.fit(X_train, y_train)"
      ],
      "execution_count": 115,
      "outputs": [
        {
          "output_type": "stream",
          "text": [
            "Training the  RandomForestClassifier(bootstrap=True, ccp_alpha=0.0, class_weight=None,\n",
            "                       criterion='gini', max_depth=None, max_features='auto',\n",
            "                       max_leaf_nodes=None, max_samples=None,\n",
            "                       min_impurity_decrease=0.0, min_impurity_split=None,\n",
            "                       min_samples_leaf=1, min_samples_split=2,\n",
            "                       min_weight_fraction_leaf=0.0, n_estimators=10,\n",
            "                       n_jobs=None, oob_score=False, random_state=42, verbose=0,\n",
            "                       warm_start=False)\n",
            "Training the  ExtraTreesClassifier(bootstrap=False, ccp_alpha=0.0, class_weight=None,\n",
            "                     criterion='gini', max_depth=None, max_features='auto',\n",
            "                     max_leaf_nodes=None, max_samples=None,\n",
            "                     min_impurity_decrease=0.0, min_impurity_split=None,\n",
            "                     min_samples_leaf=1, min_samples_split=2,\n",
            "                     min_weight_fraction_leaf=0.0, n_estimators=10, n_jobs=None,\n",
            "                     oob_score=False, random_state=42, verbose=0,\n",
            "                     warm_start=False)\n",
            "Training the  LinearSVC(C=1.0, class_weight=None, dual=True, fit_intercept=True,\n",
            "          intercept_scaling=1, loss='squared_hinge', max_iter=1000,\n",
            "          multi_class='ovr', penalty='l2', random_state=42, tol=0.0001,\n",
            "          verbose=0)\n"
          ],
          "name": "stdout"
        },
        {
          "output_type": "stream",
          "text": [
            "/usr/local/lib/python3.6/dist-packages/sklearn/svm/_base.py:947: ConvergenceWarning: Liblinear failed to converge, increase the number of iterations.\n",
            "  \"the number of iterations.\", ConvergenceWarning)\n"
          ],
          "name": "stderr"
        },
        {
          "output_type": "stream",
          "text": [
            "Training the  MLPClassifier(activation='relu', alpha=0.0001, batch_size='auto', beta_1=0.9,\n",
            "              beta_2=0.999, early_stopping=False, epsilon=1e-08,\n",
            "              hidden_layer_sizes=(100,), learning_rate='constant',\n",
            "              learning_rate_init=0.001, max_fun=15000, max_iter=200,\n",
            "              momentum=0.9, n_iter_no_change=10, nesterovs_momentum=True,\n",
            "              power_t=0.5, random_state=42, shuffle=True, solver='adam',\n",
            "              tol=0.0001, validation_fraction=0.1, verbose=False,\n",
            "              warm_start=False)\n"
          ],
          "name": "stdout"
        }
      ]
    },
    {
      "cell_type": "code",
      "metadata": {
        "colab": {
          "base_uri": "https://localhost:8080/"
        },
        "id": "500nwU1v_sy1",
        "outputId": "4f72ed85-ef03-4ba6-f609-bed5cf45ca88"
      },
      "source": [
        "[estimator.score(X_val, y_val) for estimator in estimators]"
      ],
      "execution_count": 116,
      "outputs": [
        {
          "output_type": "execute_result",
          "data": {
            "text/plain": [
              "[0.4266666666666667, 0.44, 0.30666666666666664, 0.38]"
            ]
          },
          "metadata": {
            "tags": []
          },
          "execution_count": 116
        }
      ]
    },
    {
      "cell_type": "code",
      "metadata": {
        "id": "GdRyDtaNBCLo"
      },
      "source": [
        "from sklearn.ensemble import VotingClassifier"
      ],
      "execution_count": 117,
      "outputs": []
    },
    {
      "cell_type": "code",
      "metadata": {
        "id": "uwBqYI8iBNym"
      },
      "source": [
        "named_estimators = [\n",
        "                    (\"random_forest_clf\", rf_clf),\n",
        "                    (\"extra_trees_clf\", ex_clf),\n",
        "                    (\"svm_clf\", svm_clf),\n",
        "                    (\"mlp_clf\", mlp_clf),\n",
        "\n",
        "]"
      ],
      "execution_count": 118,
      "outputs": []
    },
    {
      "cell_type": "code",
      "metadata": {
        "id": "igK9XCxiBjYf"
      },
      "source": [
        "voting_clf = VotingClassifier(named_estimators)"
      ],
      "execution_count": 119,
      "outputs": []
    },
    {
      "cell_type": "code",
      "metadata": {
        "colab": {
          "base_uri": "https://localhost:8080/"
        },
        "id": "EhXpoLzRBmrM",
        "outputId": "ca6644e0-cd32-4175-b6a4-99d7c2fc838d"
      },
      "source": [
        "voting_clf.fit(X_train, y_train)"
      ],
      "execution_count": 120,
      "outputs": [
        {
          "output_type": "stream",
          "text": [
            "/usr/local/lib/python3.6/dist-packages/sklearn/svm/_base.py:947: ConvergenceWarning: Liblinear failed to converge, increase the number of iterations.\n",
            "  \"the number of iterations.\", ConvergenceWarning)\n"
          ],
          "name": "stderr"
        },
        {
          "output_type": "execute_result",
          "data": {
            "text/plain": [
              "VotingClassifier(estimators=[('random_forest_clf',\n",
              "                              RandomForestClassifier(bootstrap=True,\n",
              "                                                     ccp_alpha=0.0,\n",
              "                                                     class_weight=None,\n",
              "                                                     criterion='gini',\n",
              "                                                     max_depth=None,\n",
              "                                                     max_features='auto',\n",
              "                                                     max_leaf_nodes=None,\n",
              "                                                     max_samples=None,\n",
              "                                                     min_impurity_decrease=0.0,\n",
              "                                                     min_impurity_split=None,\n",
              "                                                     min_samples_leaf=1,\n",
              "                                                     min_samples_split=2,\n",
              "                                                     min_weight_fraction_leaf=0.0,\n",
              "                                                     n_estimators=10,\n",
              "                                                     n_jobs=...\n",
              "                                            epsilon=1e-08,\n",
              "                                            hidden_layer_sizes=(100,),\n",
              "                                            learning_rate='constant',\n",
              "                                            learning_rate_init=0.001,\n",
              "                                            max_fun=15000, max_iter=200,\n",
              "                                            momentum=0.9, n_iter_no_change=10,\n",
              "                                            nesterovs_momentum=True,\n",
              "                                            power_t=0.5, random_state=42,\n",
              "                                            shuffle=True, solver='adam',\n",
              "                                            tol=0.0001, validation_fraction=0.1,\n",
              "                                            verbose=False, warm_start=False))],\n",
              "                 flatten_transform=True, n_jobs=None, voting='hard',\n",
              "                 weights=None)"
            ]
          },
          "metadata": {
            "tags": []
          },
          "execution_count": 120
        }
      ]
    },
    {
      "cell_type": "code",
      "metadata": {
        "colab": {
          "base_uri": "https://localhost:8080/"
        },
        "id": "9T06TLn_Bq_S",
        "outputId": "ff7857ef-f435-43dd-d14a-4ea1cd50e14b"
      },
      "source": [
        "voting_clf.score(X_val, y_val)"
      ],
      "execution_count": 121,
      "outputs": [
        {
          "output_type": "execute_result",
          "data": {
            "text/plain": [
              "0.4666666666666667"
            ]
          },
          "metadata": {
            "tags": []
          },
          "execution_count": 121
        }
      ]
    },
    {
      "cell_type": "code",
      "metadata": {
        "colab": {
          "base_uri": "https://localhost:8080/"
        },
        "id": "aCacGkUzCIMa",
        "outputId": "b0a4b4b8-ab1d-4c0c-9a77-bc9f9002638f"
      },
      "source": [
        "[estimator.score(X_val, y_val) for estimator in voting_clf.estimators_]"
      ],
      "execution_count": 122,
      "outputs": [
        {
          "output_type": "execute_result",
          "data": {
            "text/plain": [
              "[0.4266666666666667, 0.44, 0.30666666666666664, 0.38]"
            ]
          },
          "metadata": {
            "tags": []
          },
          "execution_count": 122
        }
      ]
    },
    {
      "cell_type": "code",
      "metadata": {
        "colab": {
          "base_uri": "https://localhost:8080/"
        },
        "id": "-X1B12zICfPE",
        "outputId": "807fc246-8764-4ba3-8d08-5e47227ad90b"
      },
      "source": [
        "voting_clf.set_params(svm_clf = None)"
      ],
      "execution_count": 123,
      "outputs": [
        {
          "output_type": "execute_result",
          "data": {
            "text/plain": [
              "VotingClassifier(estimators=[('random_forest_clf',\n",
              "                              RandomForestClassifier(bootstrap=True,\n",
              "                                                     ccp_alpha=0.0,\n",
              "                                                     class_weight=None,\n",
              "                                                     criterion='gini',\n",
              "                                                     max_depth=None,\n",
              "                                                     max_features='auto',\n",
              "                                                     max_leaf_nodes=None,\n",
              "                                                     max_samples=None,\n",
              "                                                     min_impurity_decrease=0.0,\n",
              "                                                     min_impurity_split=None,\n",
              "                                                     min_samples_leaf=1,\n",
              "                                                     min_samples_split=2,\n",
              "                                                     min_weight_fraction_leaf=0.0,\n",
              "                                                     n_estimators=10,\n",
              "                                                     n_jobs=...\n",
              "                                            epsilon=1e-08,\n",
              "                                            hidden_layer_sizes=(100,),\n",
              "                                            learning_rate='constant',\n",
              "                                            learning_rate_init=0.001,\n",
              "                                            max_fun=15000, max_iter=200,\n",
              "                                            momentum=0.9, n_iter_no_change=10,\n",
              "                                            nesterovs_momentum=True,\n",
              "                                            power_t=0.5, random_state=42,\n",
              "                                            shuffle=True, solver='adam',\n",
              "                                            tol=0.0001, validation_fraction=0.1,\n",
              "                                            verbose=False, warm_start=False))],\n",
              "                 flatten_transform=True, n_jobs=None, voting='hard',\n",
              "                 weights=None)"
            ]
          },
          "metadata": {
            "tags": []
          },
          "execution_count": 123
        }
      ]
    },
    {
      "cell_type": "code",
      "metadata": {
        "colab": {
          "base_uri": "https://localhost:8080/"
        },
        "id": "noAeI4IJCkef",
        "outputId": "d3f4ab3a-d07b-4c0c-e457-db33f9fe2bb8"
      },
      "source": [
        "voting_clf.estimators"
      ],
      "execution_count": 124,
      "outputs": [
        {
          "output_type": "execute_result",
          "data": {
            "text/plain": [
              "[('random_forest_clf',\n",
              "  RandomForestClassifier(bootstrap=True, ccp_alpha=0.0, class_weight=None,\n",
              "                         criterion='gini', max_depth=None, max_features='auto',\n",
              "                         max_leaf_nodes=None, max_samples=None,\n",
              "                         min_impurity_decrease=0.0, min_impurity_split=None,\n",
              "                         min_samples_leaf=1, min_samples_split=2,\n",
              "                         min_weight_fraction_leaf=0.0, n_estimators=10,\n",
              "                         n_jobs=None, oob_score=False, random_state=42, verbose=0,\n",
              "                         warm_start=False)),\n",
              " ('extra_trees_clf',\n",
              "  ExtraTreesClassifier(bootstrap=False, ccp_alpha=0.0, class_weight=None,\n",
              "                       criterion='gini', max_depth=None, max_features='auto',\n",
              "                       max_leaf_nodes=None, max_samples=None,\n",
              "                       min_impurity_decrease=0.0, min_impurity_split=None,\n",
              "                       min_samples_leaf=1, min_samples_split=2,\n",
              "                       min_weight_fraction_leaf=0.0, n_estimators=10, n_jobs=None,\n",
              "                       oob_score=False, random_state=42, verbose=0,\n",
              "                       warm_start=False)),\n",
              " ('svm_clf', None),\n",
              " ('mlp_clf',\n",
              "  MLPClassifier(activation='relu', alpha=0.0001, batch_size='auto', beta_1=0.9,\n",
              "                beta_2=0.999, early_stopping=False, epsilon=1e-08,\n",
              "                hidden_layer_sizes=(100,), learning_rate='constant',\n",
              "                learning_rate_init=0.001, max_fun=15000, max_iter=200,\n",
              "                momentum=0.9, n_iter_no_change=10, nesterovs_momentum=True,\n",
              "                power_t=0.5, random_state=42, shuffle=True, solver='adam',\n",
              "                tol=0.0001, validation_fraction=0.1, verbose=False,\n",
              "                warm_start=False))]"
            ]
          },
          "metadata": {
            "tags": []
          },
          "execution_count": 124
        }
      ]
    },
    {
      "cell_type": "code",
      "metadata": {
        "colab": {
          "base_uri": "https://localhost:8080/"
        },
        "id": "lFdngvxUCuTo",
        "outputId": "a0c45bd3-c631-4420-bb66-49aeeaf52e5e"
      },
      "source": [
        "voting_clf.estimators_"
      ],
      "execution_count": 125,
      "outputs": [
        {
          "output_type": "execute_result",
          "data": {
            "text/plain": [
              "[RandomForestClassifier(bootstrap=True, ccp_alpha=0.0, class_weight=None,\n",
              "                        criterion='gini', max_depth=None, max_features='auto',\n",
              "                        max_leaf_nodes=None, max_samples=None,\n",
              "                        min_impurity_decrease=0.0, min_impurity_split=None,\n",
              "                        min_samples_leaf=1, min_samples_split=2,\n",
              "                        min_weight_fraction_leaf=0.0, n_estimators=10,\n",
              "                        n_jobs=None, oob_score=False, random_state=42, verbose=0,\n",
              "                        warm_start=False),\n",
              " ExtraTreesClassifier(bootstrap=False, ccp_alpha=0.0, class_weight=None,\n",
              "                      criterion='gini', max_depth=None, max_features='auto',\n",
              "                      max_leaf_nodes=None, max_samples=None,\n",
              "                      min_impurity_decrease=0.0, min_impurity_split=None,\n",
              "                      min_samples_leaf=1, min_samples_split=2,\n",
              "                      min_weight_fraction_leaf=0.0, n_estimators=10, n_jobs=None,\n",
              "                      oob_score=False, random_state=42, verbose=0,\n",
              "                      warm_start=False),\n",
              " LinearSVC(C=1.0, class_weight=None, dual=True, fit_intercept=True,\n",
              "           intercept_scaling=1, loss='squared_hinge', max_iter=1000,\n",
              "           multi_class='ovr', penalty='l2', random_state=42, tol=0.0001,\n",
              "           verbose=0),\n",
              " MLPClassifier(activation='relu', alpha=0.0001, batch_size='auto', beta_1=0.9,\n",
              "               beta_2=0.999, early_stopping=False, epsilon=1e-08,\n",
              "               hidden_layer_sizes=(100,), learning_rate='constant',\n",
              "               learning_rate_init=0.001, max_fun=15000, max_iter=200,\n",
              "               momentum=0.9, n_iter_no_change=10, nesterovs_momentum=True,\n",
              "               power_t=0.5, random_state=42, shuffle=True, solver='adam',\n",
              "               tol=0.0001, validation_fraction=0.1, verbose=False,\n",
              "               warm_start=False)]"
            ]
          },
          "metadata": {
            "tags": []
          },
          "execution_count": 125
        }
      ]
    },
    {
      "cell_type": "code",
      "metadata": {
        "id": "oibq1iC0C0dp"
      },
      "source": [
        "del voting_clf.estimators_[2]"
      ],
      "execution_count": 126,
      "outputs": []
    },
    {
      "cell_type": "code",
      "metadata": {
        "colab": {
          "base_uri": "https://localhost:8080/"
        },
        "id": "nquxp7bMDHsN",
        "outputId": "99ad7918-79ec-4c28-cb88-ad91597c696c"
      },
      "source": [
        "voting_clf.score(X_val, y_val)"
      ],
      "execution_count": 127,
      "outputs": [
        {
          "output_type": "execute_result",
          "data": {
            "text/plain": [
              "0.4266666666666667"
            ]
          },
          "metadata": {
            "tags": []
          },
          "execution_count": 127
        }
      ]
    },
    {
      "cell_type": "code",
      "metadata": {
        "colab": {
          "base_uri": "https://localhost:8080/"
        },
        "id": "PUQeJR4lDMxY",
        "outputId": "e04861f7-3a5e-4187-fa7e-d1db00772033"
      },
      "source": [
        "voting_clf.voting = \"soft\"\n",
        "voting_clf.score(X_val, y_val)"
      ],
      "execution_count": 128,
      "outputs": [
        {
          "output_type": "execute_result",
          "data": {
            "text/plain": [
              "0.3933333333333333"
            ]
          },
          "metadata": {
            "tags": []
          },
          "execution_count": 128
        }
      ]
    },
    {
      "cell_type": "code",
      "metadata": {
        "id": "_MKz67atDZ4D"
      },
      "source": [
        ""
      ],
      "execution_count": 129,
      "outputs": []
    },
    {
      "cell_type": "code",
      "metadata": {
        "id": "IFf-8OGcDpYW"
      },
      "source": [
        "X_val_predictions = np.empty((len(X_val), len(estimators)), dtype=np.float32)"
      ],
      "execution_count": 130,
      "outputs": []
    },
    {
      "cell_type": "code",
      "metadata": {
        "colab": {
          "base_uri": "https://localhost:8080/"
        },
        "id": "hx1OLoCHElOh",
        "outputId": "59d641a5-0af5-4ba1-b5c0-1b0910b916c0"
      },
      "source": [
        "X_val_predictions.shape"
      ],
      "execution_count": 131,
      "outputs": [
        {
          "output_type": "execute_result",
          "data": {
            "text/plain": [
              "(150, 4)"
            ]
          },
          "metadata": {
            "tags": []
          },
          "execution_count": 131
        }
      ]
    },
    {
      "cell_type": "code",
      "metadata": {
        "id": "W5oBhxkOEmpO"
      },
      "source": [
        "for index, estimator in enumerate(estimators):\n",
        "  X_val_predictions[:,index] = estimator.predict(X_val)"
      ],
      "execution_count": 132,
      "outputs": []
    },
    {
      "cell_type": "code",
      "metadata": {
        "colab": {
          "base_uri": "https://localhost:8080/"
        },
        "id": "B_vPdbBJFCms",
        "outputId": "503cfb1c-65f3-4ae3-a6aa-0ebf463cf6ce"
      },
      "source": [
        "X_val_predictions"
      ],
      "execution_count": 133,
      "outputs": [
        {
          "output_type": "execute_result",
          "data": {
            "text/plain": [
              "array([[0., 1., 3., 2.],\n",
              "       [1., 0., 2., 1.],\n",
              "       [0., 0., 0., 1.],\n",
              "       [1., 0., 3., 1.],\n",
              "       [1., 1., 0., 1.],\n",
              "       [1., 1., 0., 1.],\n",
              "       [2., 3., 3., 1.],\n",
              "       [3., 3., 2., 3.],\n",
              "       [2., 2., 3., 1.],\n",
              "       [2., 2., 2., 2.],\n",
              "       [1., 1., 3., 1.],\n",
              "       [0., 2., 2., 1.],\n",
              "       [2., 2., 2., 2.],\n",
              "       [0., 1., 3., 1.],\n",
              "       [1., 2., 3., 1.],\n",
              "       [0., 1., 0., 0.],\n",
              "       [2., 0., 3., 1.],\n",
              "       [0., 0., 0., 1.],\n",
              "       [2., 2., 3., 1.],\n",
              "       [2., 2., 3., 2.],\n",
              "       [3., 3., 3., 2.],\n",
              "       [1., 1., 3., 1.],\n",
              "       [1., 0., 0., 1.],\n",
              "       [1., 2., 0., 2.],\n",
              "       [2., 2., 0., 1.],\n",
              "       [1., 0., 0., 1.],\n",
              "       [3., 0., 3., 1.],\n",
              "       [1., 0., 0., 1.],\n",
              "       [0., 2., 2., 1.],\n",
              "       [1., 1., 2., 1.],\n",
              "       [2., 2., 2., 3.],\n",
              "       [0., 1., 0., 1.],\n",
              "       [1., 0., 0., 1.],\n",
              "       [2., 2., 3., 1.],\n",
              "       [3., 3., 2., 1.],\n",
              "       [0., 0., 0., 0.],\n",
              "       [1., 1., 3., 1.],\n",
              "       [1., 2., 3., 2.],\n",
              "       [3., 3., 2., 1.],\n",
              "       [1., 1., 3., 1.],\n",
              "       [3., 3., 3., 3.],\n",
              "       [3., 3., 2., 1.],\n",
              "       [3., 2., 2., 1.],\n",
              "       [3., 3., 2., 2.],\n",
              "       [3., 3., 2., 3.],\n",
              "       [1., 0., 0., 1.],\n",
              "       [2., 0., 0., 2.],\n",
              "       [1., 1., 3., 1.],\n",
              "       [0., 1., 0., 1.],\n",
              "       [3., 2., 2., 1.],\n",
              "       [2., 2., 2., 3.],\n",
              "       [3., 2., 2., 1.],\n",
              "       [2., 2., 2., 3.],\n",
              "       [0., 0., 0., 1.],\n",
              "       [2., 2., 2., 1.],\n",
              "       [0., 0., 0., 1.],\n",
              "       [0., 0., 0., 1.],\n",
              "       [3., 3., 2., 3.],\n",
              "       [0., 0., 0., 1.],\n",
              "       [0., 0., 0., 1.],\n",
              "       [1., 0., 0., 1.],\n",
              "       [0., 0., 0., 1.],\n",
              "       [2., 2., 3., 2.],\n",
              "       [3., 1., 3., 1.],\n",
              "       [2., 2., 2., 3.],\n",
              "       [2., 1., 0., 1.],\n",
              "       [2., 2., 3., 1.],\n",
              "       [1., 2., 0., 1.],\n",
              "       [0., 0., 0., 1.],\n",
              "       [0., 0., 0., 0.],\n",
              "       [0., 0., 0., 2.],\n",
              "       [0., 0., 0., 1.],\n",
              "       [2., 2., 2., 2.],\n",
              "       [1., 1., 2., 2.],\n",
              "       [1., 1., 0., 1.],\n",
              "       [1., 1., 0., 1.],\n",
              "       [1., 0., 0., 1.],\n",
              "       [2., 2., 3., 2.],\n",
              "       [1., 2., 3., 1.],\n",
              "       [2., 3., 2., 3.],\n",
              "       [3., 3., 2., 2.],\n",
              "       [3., 3., 2., 2.],\n",
              "       [2., 2., 3., 1.],\n",
              "       [3., 3., 3., 3.],\n",
              "       [0., 0., 0., 1.],\n",
              "       [1., 1., 3., 1.],\n",
              "       [1., 1., 0., 1.],\n",
              "       [3., 2., 2., 3.],\n",
              "       [1., 2., 2., 3.],\n",
              "       [2., 3., 2., 3.],\n",
              "       [1., 1., 3., 1.],\n",
              "       [0., 1., 3., 1.],\n",
              "       [0., 0., 0., 1.],\n",
              "       [2., 2., 3., 2.],\n",
              "       [3., 3., 2., 3.],\n",
              "       [1., 1., 0., 1.],\n",
              "       [3., 1., 3., 1.],\n",
              "       [0., 3., 0., 1.],\n",
              "       [3., 0., 3., 1.],\n",
              "       [1., 1., 3., 1.],\n",
              "       [2., 3., 2., 1.],\n",
              "       [2., 2., 3., 2.],\n",
              "       [2., 2., 2., 2.],\n",
              "       [0., 3., 2., 0.],\n",
              "       [3., 1., 0., 1.],\n",
              "       [1., 1., 3., 1.],\n",
              "       [2., 2., 3., 1.],\n",
              "       [0., 2., 0., 1.],\n",
              "       [1., 1., 3., 1.],\n",
              "       [3., 1., 3., 3.],\n",
              "       [2., 2., 3., 2.],\n",
              "       [1., 2., 3., 1.],\n",
              "       [2., 2., 2., 2.],\n",
              "       [1., 0., 0., 1.],\n",
              "       [3., 3., 2., 3.],\n",
              "       [3., 3., 2., 3.],\n",
              "       [3., 3., 2., 3.],\n",
              "       [0., 0., 0., 0.],\n",
              "       [0., 1., 0., 1.],\n",
              "       [2., 2., 2., 2.],\n",
              "       [3., 3., 2., 2.],\n",
              "       [1., 1., 3., 1.],\n",
              "       [2., 2., 3., 2.],\n",
              "       [1., 3., 2., 3.],\n",
              "       [0., 0., 0., 1.],\n",
              "       [3., 2., 2., 2.],\n",
              "       [0., 0., 0., 0.],\n",
              "       [0., 1., 0., 1.],\n",
              "       [1., 1., 3., 1.],\n",
              "       [2., 1., 2., 1.],\n",
              "       [2., 3., 2., 3.],\n",
              "       [2., 2., 3., 2.],\n",
              "       [3., 3., 2., 2.],\n",
              "       [3., 3., 2., 3.],\n",
              "       [1., 1., 0., 1.],\n",
              "       [3., 0., 3., 2.],\n",
              "       [2., 2., 2., 1.],\n",
              "       [0., 1., 0., 1.],\n",
              "       [3., 3., 2., 3.],\n",
              "       [0., 0., 0., 1.],\n",
              "       [0., 0., 0., 1.],\n",
              "       [3., 3., 2., 2.],\n",
              "       [1., 1., 0., 1.],\n",
              "       [1., 0., 0., 1.],\n",
              "       [0., 0., 0., 1.],\n",
              "       [0., 0., 2., 0.],\n",
              "       [2., 3., 2., 2.],\n",
              "       [1., 1., 0., 1.],\n",
              "       [0., 0., 0., 0.],\n",
              "       [0., 0., 2., 3.]], dtype=float32)"
            ]
          },
          "metadata": {
            "tags": []
          },
          "execution_count": 133
        }
      ]
    },
    {
      "cell_type": "code",
      "metadata": {
        "colab": {
          "base_uri": "https://localhost:8080/"
        },
        "id": "uQWqJc4WFRXA",
        "outputId": "e353a916-0a52-4d03-e944-f5571fe51f1d"
      },
      "source": [
        "rf_blender = RandomForestClassifier(n_estimators=200, oob_score=True,\n",
        "                                    random_state=42)\n",
        "rf_blender.fit(X_val_predictions, y_val)"
      ],
      "execution_count": 134,
      "outputs": [
        {
          "output_type": "execute_result",
          "data": {
            "text/plain": [
              "RandomForestClassifier(bootstrap=True, ccp_alpha=0.0, class_weight=None,\n",
              "                       criterion='gini', max_depth=None, max_features='auto',\n",
              "                       max_leaf_nodes=None, max_samples=None,\n",
              "                       min_impurity_decrease=0.0, min_impurity_split=None,\n",
              "                       min_samples_leaf=1, min_samples_split=2,\n",
              "                       min_weight_fraction_leaf=0.0, n_estimators=200,\n",
              "                       n_jobs=None, oob_score=True, random_state=42, verbose=0,\n",
              "                       warm_start=False)"
            ]
          },
          "metadata": {
            "tags": []
          },
          "execution_count": 134
        }
      ]
    },
    {
      "cell_type": "code",
      "metadata": {
        "colab": {
          "base_uri": "https://localhost:8080/"
        },
        "id": "jEkznb5dF8Ui",
        "outputId": "723253e6-e1dd-4005-aa56-f83f4329fe91"
      },
      "source": [
        "rf_blender.oob_score_"
      ],
      "execution_count": 135,
      "outputs": [
        {
          "output_type": "execute_result",
          "data": {
            "text/plain": [
              "0.38"
            ]
          },
          "metadata": {
            "tags": []
          },
          "execution_count": 135
        }
      ]
    },
    {
      "cell_type": "code",
      "metadata": {
        "id": "086aGY4VGAwy"
      },
      "source": [
        "X_test_predictions = np.empty((len(X_test), len(estimators)), dtype=np.float32)\n",
        "\n",
        "for index, estimator in enumerate(estimators):\n",
        "    X_test_predictions[:, index] = estimator.predict(X_test)\n"
      ],
      "execution_count": null,
      "outputs": []
    },
    {
      "cell_type": "code",
      "metadata": {
        "id": "KH9I1jrtGMGq"
      },
      "source": [
        "y_pred = rf_blender.predict(X_test_predictions)\n"
      ],
      "execution_count": null,
      "outputs": []
    },
    {
      "cell_type": "code",
      "metadata": {
        "id": "-BljfU_NGR6I"
      },
      "source": [
        "from sklearn.metrics import accuracy_score\n"
      ],
      "execution_count": null,
      "outputs": []
    },
    {
      "cell_type": "code",
      "metadata": {
        "id": "BAsnzo3aGfyT",
        "colab": {
          "base_uri": "https://localhost:8080/"
        },
        "outputId": "42846ed7-e1e9-4a32-cdb4-c09943f4c1da"
      },
      "source": [
        "accuracy_score(y_test, y_pred)\n"
      ],
      "execution_count": null,
      "outputs": [
        {
          "output_type": "execute_result",
          "data": {
            "text/plain": [
              "0.9614"
            ]
          },
          "metadata": {
            "tags": []
          },
          "execution_count": 66
        }
      ]
    },
    {
      "cell_type": "code",
      "metadata": {
        "id": "cKQtoDAAGhEi"
      },
      "source": [
        ""
      ],
      "execution_count": null,
      "outputs": []
    }
  ]
}